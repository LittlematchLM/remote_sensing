{
 "cells": [
  {
   "cell_type": "markdown",
   "metadata": {},
   "source": [
    "# 读取所有对比结果"
   ]
  },
  {
   "cell_type": "code",
   "execution_count": 3,
   "metadata": {},
   "outputs": [],
   "source": [
    "import pandas as pd\n",
    "import numpy as np\n",
    "import matplotlib.pyplot as plt\n",
    "import glob\n",
    "import os"
   ]
  },
  {
   "cell_type": "code",
   "execution_count": null,
   "metadata": {},
   "outputs": [],
   "source": [
    "years = ['2020']\n",
    "months = ['09']\n",
    "output_dir = r'E:\\\\HLCourse\\\\experiment_marine_technology\\\\finally_project\\\\output\\\\'\n",
    "dataframe_dir = r'E:\\\\HLCourse\\\\experiment_marine_technology\\\\finally_project\\\\dataframe\\\\'"
   ]
  },
  {
   "cell_type": "code",
   "execution_count": null,
   "metadata": {},
   "outputs": [],
   "source": [
    "for yea in years:\n",
    "    for mon in months:\n",
    "        hy_dir_path = r'G:\\\\remote_sensing_data\\\\hy2b\\\\ALT\\\\'+ yea + '\\\\' + mon\n",
    "        hyfiles = hyfiles + (glob.glob(hy_dir_path + '\\*.nc'))\n",
    "hyfiles.sort()"
   ]
  }
 ],
 "metadata": {
  "kernelspec": {
   "display_name": "Python 3",
   "language": "python",
   "name": "python3"
  },
  "language_info": {
   "codemirror_mode": {
    "name": "ipython",
    "version": 3
   },
   "file_extension": ".py",
   "mimetype": "text/x-python",
   "name": "python",
   "nbconvert_exporter": "python",
   "pygments_lexer": "ipython3",
   "version": "3.8.5"
  }
 },
 "nbformat": 4,
 "nbformat_minor": 4
}
