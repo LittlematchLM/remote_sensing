{
 "cells": [
  {
   "cell_type": "markdown",
   "metadata": {},
   "source": [
    "# HY2B SWH对比"
   ]
  },
  {
   "cell_type": "code",
   "execution_count": 1,
   "metadata": {},
   "outputs": [],
   "source": [
    "from HaiYangData import *\n",
    "import glob\n",
    "from sklearn.metrics import mean_squared_error, r2_score"
   ]
  },
  {
   "cell_type": "code",
   "execution_count": 2,
   "metadata": {},
   "outputs": [],
   "source": [
    "def polar_plot(x_map, y_map,grid, vmax ,vmin,color_lable=None,title=None,cmap = plt.cm.jet):\n",
    "    m = Basemap(projection='npaeqd', boundinglat=66, lon_0=0, resolution='c')\n",
    "    m.pcolormesh(x_map, y_map, data=grid, cmap=cmap,vmin=vmin, vmax=vmax,latlon = True)\n",
    "    cb = m.colorbar(location='bottom')\n",
    "    if color_lable:\n",
    "        cb.set_label(color_lable)\n",
    "    m.fillcontinents()\n",
    "    m.drawmapboundary()\n",
    "    m.drawparallels(np.arange(-90., 120., 10.), labels=[1, 0, 0, 0])\n",
    "    m.drawmeridians(np.arange(-180., 180., 60.), labels=[0, 0, 0, 1])\n",
    "    plt.title(title)\n"
   ]
  },
  {
   "cell_type": "code",
   "execution_count": 3,
   "metadata": {},
   "outputs": [],
   "source": [
    "# 设置空间分辨率\n",
    "years = ['2020']\n",
    "months = ['08'] \n",
    "time_window = 3600 \n",
    "resolution = 25000\n",
    "output_dir = r'E:\\\\HLCourse\\\\experiment_marine_technology\\\\finally_project\\\\output\\\\'\n",
    "dataframe_dir = r'E:\\\\HLCourse\\\\experiment_marine_technology\\\\finally_project\\\\dataframe\\\\'"
   ]
  },
  {
   "cell_type": "code",
   "execution_count": 4,
   "metadata": {},
   "outputs": [],
   "source": [
    "# 将WGS 84坐标（4326）转化为极射投影\n",
    "crs = CRS.from_epsg(4326)\n",
    "crs = CRS.from_string(\"epsg:4326\")\n",
    "crs = CRS.from_proj4(\"+proj=latlon\")\n",
    "crs = CRS.from_user_input(4326)\n",
    "crs2 = CRS(proj=\"aeqd\")\n",
    "\n",
    "transformer = HaiYangData.set_transformer(crs,crs2)\n",
    "transformer_back = HaiYangData.set_transformer(crs2,crs)"
   ]
  },
  {
   "cell_type": "code",
   "execution_count": 6,
   "metadata": {},
   "outputs": [],
   "source": [
    "hy_alt = HaiYangData(satellite='hy', sensor='alt',resolution=resolution)"
   ]
  },
  {
   "cell_type": "code",
   "execution_count": 6,
   "metadata": {},
   "outputs": [],
   "source": [
    "hyfiles = []\n",
    "hy_value = ['swh_ku','swh_c','mean_sea_surface','rain_flag','ice_flag','surface_type']\n",
    "hy_fill_value = 32767\n",
    "for yea in years:\n",
    "    for mon in months:\n",
    "        hy_dir_path = r'G:\\\\remote_sensing_data\\\\hy2b\\\\ALT\\\\'+ yea + '\\\\' + mon\n",
    "        hyfiles = hyfiles + (glob.glob(hy_dir_path + '\\*.nc'))\n",
    "hyfiles.sort()\n"
   ]
  },
  {
   "cell_type": "code",
   "execution_count": 7,
   "metadata": {},
   "outputs": [],
   "source": [
    "\n",
    "hy_ori_df = pd.DataFrame(np.column_stack((hy_alt.alt_from_nc_files(hyfiles, value=hy_value))), columns=['lon', 'lat', 'time']+hy_value)\n",
    "\n",
    "\n"
   ]
  },
  {
   "cell_type": "code",
   "execution_count": 8,
   "metadata": {},
   "outputs": [],
   "source": [
    "# 删除无效点,只处理北纬66°以上的数据\n",
    "# 删除降雨、冰、陆地的点\n",
    "hy_df = hy_ori_df.drop(list(np.where(hy_ori_df['swh_ku'] == hy_fill_value)[0][:]))\n",
    "hy_df = hy_alt.data_filter(hy_df,'lat',66)\n",
    "hy_df = hy_df.drop(hy_df[(hy_df.rain_flag != 0)].index)\n",
    "hy_df = hy_df.drop(hy_df[(hy_df.ice_flag != 0)].index)\n",
    "hy_df = hy_df.drop(hy_df[(hy_df.surface_type == 2)].index)"
   ]
  },
  {
   "cell_type": "code",
   "execution_count": 9,
   "metadata": {},
   "outputs": [],
   "source": [
    "# hy_df.to_csv(dataframe_dir + 'hy' +str( years) + str(months) + '.csv')"
   ]
  },
  {
   "cell_type": "code",
   "execution_count": 7,
   "metadata": {},
   "outputs": [],
   "source": [
    "hy_df = pd.read_csv(dataframe_dir+'hy' +str( years) + str(months) + '.csv')"
   ]
  },
  {
   "cell_type": "code",
   "execution_count": 8,
   "metadata": {},
   "outputs": [],
   "source": [
    "# 将投影数据添加到dataframe中\n",
    "hy_alt.add_proj(hy_df, transformer)\n",
    "\n",
    "# 交叉点平均化\n",
    "hy_swh_grid = hy_alt.coincident_point_mean(hy_df,'swh_ku')\n",
    "hy_ssh_grid = hy_alt.coincident_point_mean(hy_df,'mean_sea_surface')\n",
    "# 获得XYmgrid\n",
    "hy_x_map, hy_y_map = hy_alt.get_map_grid(transformer_back)"
   ]
  },
  {
   "cell_type": "code",
   "execution_count": 9,
   "metadata": {},
   "outputs": [
    {
     "name": "stderr",
     "output_type": "stream",
     "text": [
      "<ipython-input-2-24430fa1c0e5>:3: MatplotlibDeprecationWarning: shading='flat' when X and Y have the same dimensions as C is deprecated since 3.3.  Either specify the corners of the quadrilaterals with X and Y, or pass shading='auto', 'nearest' or 'gouraud', or set rcParams['pcolor.shading'].  This will become an error two minor releases later.\n",
      "  m.pcolormesh(x_map, y_map, data=grid, cmap=cmap,vmin=vmin, vmax=vmax,latlon = True)\n"
     ]
    }
   ],
   "source": [
    "plt.figure(figsize=(10, 10))\n",
    "polar_plot(hy_x_map, hy_y_map,hy_swh_grid,vmin=0, vmax=5,color_lable='SWH (m)',title='HaiYang2B '+str(years[0]) + str(months[0]))\n",
    "plt.savefig(r'output/'+ str( years) + str(months)  +' HY' + 'swh' +' '+ 'location_plot.jpg')\n",
    "plt.close()"
   ]
  },
  {
   "cell_type": "code",
   "execution_count": 10,
   "metadata": {},
   "outputs": [],
   "source": [
    "hy_df = hy_df.drop(hy_df[hy_df.mean_sea_surface > 500].index)"
   ]
  },
  {
   "cell_type": "code",
   "execution_count": 11,
   "metadata": {},
   "outputs": [
    {
     "data": {
      "text/plain": [
       "<AxesSubplot:>"
      ]
     },
     "execution_count": 11,
     "metadata": {},
     "output_type": "execute_result"
    },
    {
     "data": {
      "image/png": "[encoded data removed]",
      "text/plain": [
       "<Figure size 432x288 with 1 Axes>"
      ]
     },
     "metadata": {
      "needs_background": "light"
     },
     "output_type": "display_data"
    }
   ],
   "source": [
    "hy_df.mean_sea_surface.hist(bins=100)\n"
   ]
  },
  {
   "cell_type": "code",
   "execution_count": 12,
   "metadata": {},
   "outputs": [
    {
     "name": "stderr",
     "output_type": "stream",
     "text": [
      "<ipython-input-2-24430fa1c0e5>:3: MatplotlibDeprecationWarning: shading='flat' when X and Y have the same dimensions as C is deprecated since 3.3.  Either specify the corners of the quadrilaterals with X and Y, or pass shading='auto', 'nearest' or 'gouraud', or set rcParams['pcolor.shading'].  This will become an error two minor releases later.\n",
      "  m.pcolormesh(x_map, y_map, data=grid, cmap=cmap,vmin=vmin, vmax=vmax,latlon = True)\n"
     ]
    }
   ],
   "source": [
    "plt.figure(figsize=(10, 10))\n",
    "polar_plot(hy_x_map, hy_y_map,hy_ssh_grid,vmin=0, vmax=60,color_lable='SSH (m)',title='HaiYang2B '+str(years[0]) + str(months[0]))\n",
    "plt.savefig(r'output/'+ str( years) + str(months)  +' HY' + 'ssh' +' '+ 'location_plot.jpg')\n",
    "plt.close()"
   ]
  },
  {
   "cell_type": "markdown",
   "metadata": {},
   "source": [
    "# Cryosat 数据处理"
   ]
  },
  {
   "cell_type": "code",
   "execution_count": 13,
   "metadata": {},
   "outputs": [],
   "source": [
    "cyfiles = []\n",
    "cy_fill_value = -32768\n",
    "\n",
    "for yea in years:\n",
    "    for mon in months:\n",
    "        cy_dir_path = r'G:\\\\remote_sensing_data\\\\cryosat2\\\\LRM_L2\\\\'+yea + '\\\\' + mon\n",
    "        cyfiles = cyfiles + (glob.glob(cy_dir_path + '\\*.nc'))\n",
    "cyfiles.sort()"
   ]
  },
  {
   "cell_type": "code",
   "execution_count": 14,
   "metadata": {},
   "outputs": [],
   "source": [
    "cy_siral = HaiYangData(satellite='cy', sensor='siral',resolution=resolution)"
   ]
  },
  {
   "cell_type": "code",
   "execution_count": 18,
   "metadata": {},
   "outputs": [],
   "source": [
    "\n",
    "cy_value = ['swh_ocean_01_ku','mean_sea_surf_sea_ice_01']\n",
    "\n",
    "cy_ori_df = pd.DataFrame(np.column_stack((cy_siral.cy_siral_from_nc(cyfiles, value=cy_value))), columns=['lon', 'lat', 'time']+cy_value)\n",
    "\n",
    "# 删除无效点,只处理北纬66°以上的数据\n",
    "cy_df = cy_ori_df.drop(list(np.where(cy_ori_df['swh_ocean_01_ku'] == cy_fill_value)[0][:]))\n",
    "cy_df = cy_siral.data_filter(cy_df,'lat',66)"
   ]
  },
  {
   "cell_type": "code",
   "execution_count": 19,
   "metadata": {},
   "outputs": [],
   "source": [
    "# cy_df.to_csv(dataframe_dir+'cy' +str( years) + str(months) + '.csv')"
   ]
  },
  {
   "cell_type": "code",
   "execution_count": 15,
   "metadata": {},
   "outputs": [],
   "source": [
    "\n",
    "cy_df = pd.read_csv(r\"E:\\\\HLCourse\\\\experiment_marine_technology\\\\finally_project\\\\dataframe\\\\\"+'cy' +str( years) + str(months) + '.csv')"
   ]
  },
  {
   "cell_type": "code",
   "execution_count": null,
   "metadata": {},
   "outputs": [],
   "source": [
    "# 将投影数据添加到dataframe中\n",
    "cy_siral.add_proj(cy_df, transformer)\n",
    "\n",
    "# 交叉点平均化\n",
    "cy_swh_grid = cy_siral.coincident_point_mean(cy_df,'swh_ocean_01_ku')\n",
    "\n",
    "# 获得XYmgrid\n",
    "cy_x_map, cy_y_map = cy_siral.get_map_grid(transformer_back)"
   ]
  },
  {
   "cell_type": "code",
   "execution_count": null,
   "metadata": {},
   "outputs": [],
   "source": [
    "plt.figure(figsize=(10, 10))\n",
    "polar_plot(cy_x_map, cy_y_map,cy_swh_grid,vmin=0, vmax=5,color_lable='SWH (m)',title='Cryosat2 '+str(years[0]) + str(months[0]))\n",
    "plt.savefig(r'output/'+ str( years) + str(months)  +' CY' + 'swh' +' '+ 'location_plot.jpg')\n",
    "plt.close()"
   ]
  },
  {
   "cell_type": "markdown",
   "metadata": {},
   "source": [
    "# ICESAT2 数据处理"
   ]
  },
  {
   "cell_type": "code",
   "execution_count": 19,
   "metadata": {},
   "outputs": [],
   "source": [
    "\n",
    "# icesat2 的时间是从2018-01-01 00：00：00开始记的，Hy2b和cryosat2的是从2000-01-01 00：00：00开始计的\n",
    "# 2018-01-01 00：00：00 与2000-01-01 00：00：00 相差了568080000秒\n",
    "correction_second = 568080000        \n",
    "is_fill_value = 32767\n",
    "isfiles = []\n",
    "is_value = ['swh']        \n",
    "for yea in years:\n",
    "    for mon in months:\n",
    "        is_dir_path = r'G:\\\\remote_sensing_data\\\\icesat2\\\\'+yea + '\\\\' + mon\n",
    "        isfiles = isfiles + (glob.glob(is_dir_path + '\\\\*.h5'))\n",
    "isfiles.sort()\n",
    "\n",
    "is_atlas = HaiYangData(satellite='is', sensor='atlas',resolution=resolution)"
   ]
  },
  {
   "cell_type": "code",
   "execution_count": 24,
   "metadata": {},
   "outputs": [],
   "source": [
    "\n",
    "is_value = ['swh','h']\n",
    "\n",
    "is_ori_df = pd.DataFrame(np.column_stack((is_atlas.is_atlas_from_nc(isfiles, value=is_value))), columns=['lon', 'lat', 'time','prc_land','prc_ocean','prc_sea_ice','prc_land_ice','prc_inland_water',]+is_value)"
   ]
  },
  {
   "cell_type": "code",
   "execution_count": 25,
   "metadata": {},
   "outputs": [],
   "source": [
    "# 删除无效点,只处理北纬66°以上的数据\n",
    "is_df = is_ori_df.drop(list(np.where(is_ori_df['swh'] == is_fill_value)[0][:]))\n",
    "is_df = is_df.drop(is_df[(is_df.lat < 66)].index)"
   ]
  },
  {
   "cell_type": "code",
   "execution_count": 26,
   "metadata": {},
   "outputs": [],
   "source": [
    "is_df.to_csv(dataframe_dir+'is' +str( years) + str(months) + '.csv')\n",
    "# is_df = pd.read_csv(r\"E:\\\\HLCourse\\\\experiment_marine_technology\\\\finally_project\\\\dataframe\\\\\"+'is' +str( years) + str(months) + '.csv')"
   ]
  },
  {
   "cell_type": "code",
   "execution_count": 27,
   "metadata": {},
   "outputs": [
    {
     "data": {
      "text/html": [
       "<div>\n",
       "<style scoped>\n",
       "    .dataframe tbody tr th:only-of-type {\n",
       "        vertical-align: middle;\n",
       "    }\n",
       "\n",
       "    .dataframe tbody tr th {\n",
       "        vertical-align: top;\n",
       "    }\n",
       "\n",
       "    .dataframe thead th {\n",
       "        text-align: right;\n",
       "    }\n",
       "</style>\n",
       "<table border=\"1\" class=\"dataframe\">\n",
       "  <thead>\n",
       "    <tr style=\"text-align: right;\">\n",
       "      <th></th>\n",
       "      <th>lon</th>\n",
       "      <th>lat</th>\n",
       "      <th>time</th>\n",
       "      <th>prc_land</th>\n",
       "      <th>prc_ocean</th>\n",
       "      <th>prc_sea_ice</th>\n",
       "      <th>prc_land_ice</th>\n",
       "      <th>prc_inland_water</th>\n",
       "      <th>swh</th>\n",
       "      <th>h</th>\n",
       "    </tr>\n",
       "  </thead>\n",
       "  <tbody>\n",
       "  </tbody>\n",
       "</table>\n",
       "</div>"
      ],
      "text/plain": [
       "Empty DataFrame\n",
       "Columns: [lon, lat, time, prc_land, prc_ocean, prc_sea_ice, prc_land_ice, prc_inland_water, swh, h]\n",
       "Index: []"
      ]
     },
     "execution_count": 27,
     "metadata": {},
     "output_type": "execute_result"
    }
   ],
   "source": [
    "is_df"
   ]
  },
  {
   "cell_type": "code",
   "execution_count": 28,
   "metadata": {},
   "outputs": [
    {
     "data": {
      "text/html": [
       "<div>\n",
       "<style scoped>\n",
       "    .dataframe tbody tr th:only-of-type {\n",
       "        vertical-align: middle;\n",
       "    }\n",
       "\n",
       "    .dataframe tbody tr th {\n",
       "        vertical-align: top;\n",
       "    }\n",
       "\n",
       "    .dataframe thead th {\n",
       "        text-align: right;\n",
       "    }\n",
       "</style>\n",
       "<table border=\"1\" class=\"dataframe\">\n",
       "  <thead>\n",
       "    <tr style=\"text-align: right;\">\n",
       "      <th></th>\n",
       "      <th>lon</th>\n",
       "      <th>lat</th>\n",
       "      <th>time</th>\n",
       "      <th>prc_land</th>\n",
       "      <th>prc_ocean</th>\n",
       "      <th>prc_sea_ice</th>\n",
       "      <th>prc_land_ice</th>\n",
       "      <th>prc_inland_water</th>\n",
       "      <th>swh</th>\n",
       "      <th>h</th>\n",
       "    </tr>\n",
       "  </thead>\n",
       "  <tbody>\n",
       "  </tbody>\n",
       "</table>\n",
       "</div>"
      ],
      "text/plain": [
       "Empty DataFrame\n",
       "Columns: [lon, lat, time, prc_land, prc_ocean, prc_sea_ice, prc_land_ice, prc_inland_water, swh, h]\n",
       "Index: []"
      ]
     },
     "execution_count": 28,
     "metadata": {},
     "output_type": "execute_result"
    }
   ],
   "source": [
    "is_df[is_df['prc_sea_ice'] == 100.0]"
   ]
  },
  {
   "cell_type": "code",
   "execution_count": 29,
   "metadata": {},
   "outputs": [
    {
     "ename": "ProjError",
     "evalue": "x, y, z, and time must be same size",
     "output_type": "error",
     "traceback": [
      "\u001b[1;31m---------------------------------------------------------------------------\u001b[0m",
      "\u001b[1;31mProjError\u001b[0m                                 Traceback (most recent call last)",
      "\u001b[1;32m<ipython-input-29-2690af44085d>\u001b[0m in \u001b[0;36m<module>\u001b[1;34m\u001b[0m\n\u001b[0;32m      1\u001b[0m \u001b[1;31m# 将投影数据添加到dataframe中\u001b[0m\u001b[1;33m\u001b[0m\u001b[1;33m\u001b[0m\u001b[1;33m\u001b[0m\u001b[0m\n\u001b[1;32m----> 2\u001b[1;33m \u001b[0mis_atlas\u001b[0m\u001b[1;33m.\u001b[0m\u001b[0madd_proj\u001b[0m\u001b[1;33m(\u001b[0m\u001b[0mis_df\u001b[0m\u001b[1;33m,\u001b[0m \u001b[0mtransformer\u001b[0m\u001b[1;33m)\u001b[0m\u001b[1;33m\u001b[0m\u001b[1;33m\u001b[0m\u001b[0m\n\u001b[0m\u001b[0;32m      3\u001b[0m \u001b[0mis_land_df\u001b[0m \u001b[1;33m=\u001b[0m \u001b[0mis_df\u001b[0m\u001b[1;33m[\u001b[0m\u001b[0mis_df\u001b[0m\u001b[1;33m[\u001b[0m\u001b[1;34m'prc_land'\u001b[0m\u001b[1;33m]\u001b[0m \u001b[1;33m==\u001b[0m \u001b[1;36m100.0\u001b[0m\u001b[1;33m]\u001b[0m\u001b[1;33m\u001b[0m\u001b[1;33m\u001b[0m\u001b[0m\n\u001b[0;32m      4\u001b[0m \u001b[0mis_ocean_df\u001b[0m \u001b[1;33m=\u001b[0m \u001b[0mis_df\u001b[0m\u001b[1;33m[\u001b[0m\u001b[0mis_df\u001b[0m\u001b[1;33m[\u001b[0m\u001b[1;34m'prc_ocean'\u001b[0m\u001b[1;33m]\u001b[0m \u001b[1;33m==\u001b[0m \u001b[1;36m100.0\u001b[0m\u001b[1;33m]\u001b[0m\u001b[1;33m\u001b[0m\u001b[1;33m\u001b[0m\u001b[0m\n\u001b[0;32m      5\u001b[0m \u001b[0mis_seaice_df\u001b[0m \u001b[1;33m=\u001b[0m \u001b[0mis_df\u001b[0m\u001b[1;33m[\u001b[0m\u001b[0mis_df\u001b[0m\u001b[1;33m[\u001b[0m\u001b[1;34m'prc_sea_ice'\u001b[0m\u001b[1;33m]\u001b[0m \u001b[1;33m==\u001b[0m \u001b[1;36m100.0\u001b[0m\u001b[1;33m]\u001b[0m\u001b[1;33m\u001b[0m\u001b[1;33m\u001b[0m\u001b[0m\n",
      "\u001b[1;32mE:\\HLCourse\\experiment_marine_technology\\finally_project\\HaiYangData.py\u001b[0m in \u001b[0;36madd_proj\u001b[1;34m(self, data_frame, transformer)\u001b[0m\n\u001b[0;32m    186\u001b[0m         ''':key\n\u001b[0;32m    187\u001b[0m         '''\n\u001b[1;32m--> 188\u001b[1;33m         \u001b[0mprojlats\u001b[0m\u001b[1;33m,\u001b[0m \u001b[0mprojlons\u001b[0m \u001b[1;33m=\u001b[0m \u001b[0mtransformer\u001b[0m\u001b[1;33m.\u001b[0m\u001b[0mtransform\u001b[0m\u001b[1;33m(\u001b[0m\u001b[0mdata_frame\u001b[0m\u001b[1;33m.\u001b[0m\u001b[0mlat\u001b[0m\u001b[1;33m.\u001b[0m\u001b[0mvalues\u001b[0m\u001b[1;33m,\u001b[0m \u001b[0mdata_frame\u001b[0m\u001b[1;33m.\u001b[0m\u001b[0mlon\u001b[0m\u001b[1;33m.\u001b[0m\u001b[0mvalues\u001b[0m\u001b[1;33m)\u001b[0m\u001b[1;33m\u001b[0m\u001b[1;33m\u001b[0m\u001b[0m\n\u001b[0m\u001b[0;32m    189\u001b[0m         \u001b[0mdata_frame\u001b[0m\u001b[1;33m[\u001b[0m\u001b[1;34m'projlats'\u001b[0m\u001b[1;33m]\u001b[0m \u001b[1;33m=\u001b[0m \u001b[0mprojlats\u001b[0m\u001b[1;33m\u001b[0m\u001b[1;33m\u001b[0m\u001b[0m\n\u001b[0;32m    190\u001b[0m         \u001b[0mdata_frame\u001b[0m\u001b[1;33m[\u001b[0m\u001b[1;34m'projlons'\u001b[0m\u001b[1;33m]\u001b[0m \u001b[1;33m=\u001b[0m \u001b[0mprojlons\u001b[0m\u001b[1;33m\u001b[0m\u001b[1;33m\u001b[0m\u001b[0m\n",
      "\u001b[1;32me:\\anaconda3\\envs\\tf2\\lib\\site-packages\\pyproj\\transformer.py\u001b[0m in \u001b[0;36mtransform\u001b[1;34m(self, xx, yy, zz, tt, radians, errcheck, direction)\u001b[0m\n\u001b[0;32m    428\u001b[0m             \u001b[0mintime\u001b[0m \u001b[1;33m=\u001b[0m \u001b[1;32mNone\u001b[0m\u001b[1;33m\u001b[0m\u001b[1;33m\u001b[0m\u001b[0m\n\u001b[0;32m    429\u001b[0m         \u001b[1;31m# call pj_transform.  inx,iny,inz buffers modified in place.\u001b[0m\u001b[1;33m\u001b[0m\u001b[1;33m\u001b[0m\u001b[1;33m\u001b[0m\u001b[0m\n\u001b[1;32m--> 430\u001b[1;33m         self._transformer._transform(\n\u001b[0m\u001b[0;32m    431\u001b[0m             \u001b[0minx\u001b[0m\u001b[1;33m,\u001b[0m\u001b[1;33m\u001b[0m\u001b[1;33m\u001b[0m\u001b[0m\n\u001b[0;32m    432\u001b[0m             \u001b[0miny\u001b[0m\u001b[1;33m,\u001b[0m\u001b[1;33m\u001b[0m\u001b[1;33m\u001b[0m\u001b[0m\n",
      "\u001b[1;32mpyproj\\_transformer.pyx\u001b[0m in \u001b[0;36mpyproj._transformer._Transformer._transform\u001b[1;34m()\u001b[0m\n",
      "\u001b[1;31mProjError\u001b[0m: x, y, z, and time must be same size"
     ]
    }
   ],
   "source": [
    "# 将投影数据添加到dataframe中\n",
    "is_atlas.add_proj(is_df, transformer)\n",
    "is_land_df = is_df[is_df['prc_land'] == 100.0]\n",
    "is_ocean_df = is_df[is_df['prc_ocean'] == 100.0]\n",
    "is_seaice_df = is_df[is_df['prc_sea_ice'] == 100.0]\n",
    "is_landice_df = is_df[is_df['prc_land_ice'] == 100.0]\n",
    "is_inlandwater_df = is_df[is_df['prc_inland_water'] == 100.0]\n",
    "\n",
    "# 交叉点平均化\n",
    "is_land_grid = is_atlas.coincident_point_mean(is_land_df,'swh')\n",
    "is_ocean_grid = is_atlas.coincident_point_mean(is_ocean_df,'swh')\n",
    "is_seaice_grid = is_atlas.coincident_point_mean(is_seaice_df,'swh')\n",
    "is_landice_grid = is_atlas.coincident_point_mean(is_landice_df,'swh')\n",
    "is_inlandwater_grid = is_atlas.coincident_point_mean(is_inlandwater_df,'swh')"
   ]
  },
  {
   "cell_type": "code",
   "execution_count": null,
   "metadata": {},
   "outputs": [],
   "source": [
    "is_df = is_df[(is_df['prc_ocean'] == 100.0) & (is_df['prc_land_ice'] == 0.0)& (is_df['prc_inland_water'] == 0.0)& (is_df['prc_sea_ice'] < 15)& (is_df['prc_land'] == 0.0)]\n",
    "# is_df = is_df[(is_df['prc_land_ice'] == 0.0)& (is_df['prc_inland_water'] == 0.0)& (is_df['prc_land'] == 0.0)]"
   ]
  },
  {
   "cell_type": "code",
   "execution_count": null,
   "metadata": {},
   "outputs": [],
   "source": [
    "# 将投影数据添加到dataframe中\n",
    "is_atlas.add_proj(is_df, transformer)\n",
    "# 交叉点平均化\n",
    "is_swh_grid = is_atlas.coincident_point_mean(is_df,'swh')\n",
    "is_ssh_grid = is_atlas.coincident_point_mean(is_df,'h')\n",
    "# 获得XYmgrid\n",
    "is_x_map, is_y_map = is_atlas.get_map_grid(transformer_back)"
   ]
  },
  {
   "cell_type": "code",
   "execution_count": null,
   "metadata": {},
   "outputs": [],
   "source": [
    "fig = plt.figure(figsize=(30,20) )    # 生成新的画布fig\n",
    "\n",
    "ax1 = fig.add_subplot(231) \n",
    "# polar_plot(is_x_map, is_y_map,is_mean_grid,title='ori',vmax = 5,vmin = 0,color_lable='SWH (m)')\n",
    "ax2 = fig.add_subplot(232)\n",
    "polar_plot(is_x_map, is_y_map,is_land_grid,title='land',vmax = 5,vmin = 0,color_lable='SWH (m)')\n",
    "ax3 = fig.add_subplot(233) \n",
    "polar_plot(is_x_map, is_y_map,is_ocean_grid,title='ocean',vmax = 5,vmin = 0,color_lable='SWH (m)')\n",
    "ax4 = fig.add_subplot(234) \n",
    "polar_plot(is_x_map, is_y_map,is_seaice_grid,title='seaice',vmax = 5,vmin = 0,color_lable='SWH (m)')\n",
    "ax5 = fig.add_subplot(235) \n",
    "polar_plot(is_x_map, is_y_map,is_landice_grid,title='landice',vmax = 5,vmin = 0,color_lable='SWH (m)')\n",
    "ax6 = fig.add_subplot(236) \n",
    "polar_plot(is_x_map, is_y_map,is_inlandwater_grid,title='inlandwater',vmax = 5,vmin = 0,color_lable='SWH (m)')\n",
    "plt.savefig(output_dir +str( years) + str(months)+ 'icesat2_surface_type_prcnt.jpg',bbox_inches='tight', dpi=150)"
   ]
  },
  {
   "cell_type": "code",
   "execution_count": null,
   "metadata": {},
   "outputs": [],
   "source": [
    "is_df.h.hist(bins=100)\n"
   ]
  },
  {
   "cell_type": "code",
   "execution_count": null,
   "metadata": {},
   "outputs": [],
   "source": [
    "fig = plt.figure(figsize=(10,10) )    # 生成新的画布fig\n",
    "polar_plot(is_x_map, is_y_map,is_swh_grid,vmax = 5,vmin = 0,color_lable='SWH (m)',title='Icesat2 '+str(years[0]) + str(months[0]))\n",
    "# plt.savefig(r'output/'+ str( years) + str(months)  +' IS' + 'swh' +' '+ 'location_plot.jpg')\n",
    "\n",
    "fig = plt.figure(figsize=(10,10) )    # 生成新的画布fig\n",
    "polar_plot(is_x_map, is_y_map,is_ssh_grid,vmax = 60,vmin = 0,color_lable='SWH (m)',title='Icesat2 '+str(years[0]) + str(months[0]))\n",
    "# plt.savefig(r'output/'+ str( years) + str(months)  +' IS' + 'ssh' +' '+ 'location_plot.jpg')"
   ]
  },
  {
   "cell_type": "code",
   "execution_count": null,
   "metadata": {},
   "outputs": [],
   "source": [
    "\n",
    "is_swh_time_dict = dict(is_atlas.coincident_time_log(is_df,value='swh'))\n",
    "is_ssh_time_dict = dict(is_atlas.coincident_time_log(is_df,value='h'))"
   ]
  },
  {
   "cell_type": "code",
   "execution_count": null,
   "metadata": {},
   "outputs": [],
   "source": [
    "\n",
    "cy_swh_time_dict = dict(cy_siral.coincident_time_log(cy_df,value='swh_ocean_01_ku'))\n",
    "hy_swh_time_dict = dict(hy_alt.coincident_time_log(hy_df,value='swh_ku'))\n",
    "hy_ssh_time_dict = dict(hy_alt.coincident_time_log(hy_df,value='mean_sea_surface'))"
   ]
  },
  {
   "cell_type": "markdown",
   "metadata": {},
   "source": [
    "# 对比hy与cryosat交叉点\n"
   ]
  },
  {
   "cell_type": "code",
   "execution_count": null,
   "metadata": {},
   "outputs": [],
   "source": [
    "# 将两个grid数组相减，还有数据的部分为交叉点\n",
    "hy_cy_grid = hy_swh_grid - cy_swh_grid\n",
    "hy_cy_diff_grid = np.argwhere(np.isnan(hy_cy_grid)!= True)"
   ]
  },
  {
   "cell_type": "code",
   "execution_count": null,
   "metadata": {},
   "outputs": [],
   "source": [
    "# 创建一个用来存储点对的list\n",
    "hy_cy_coincident_list = []\n",
    "hy_cy_time_list = []\n",
    "for i in range(hy_cy_diff_grid.shape[0]): \n",
    "    diff_x = hy_cy_diff_grid[i][0]\n",
    "    diff_y = hy_cy_diff_grid[i][1]\n",
    "    if diff_y>(hy_alt.nlat / 2):\n",
    "        diff_y -= hy_alt.nlat\n",
    "    key = str(diff_x) + '+' + str(diff_y)\n",
    "    try:\n",
    "                   \n",
    "        for cy_time_key in cy_swh_time_dict[key].keys():\n",
    "            for hy_time_key in hy_swh_time_dict[key].keys():\n",
    "                hy_cy_time_list.append(np.abs(hy_time_key - cy_time_key))\n",
    "                hy_cy_time_list.append(key)\n",
    "\n",
    "                if np.abs(hy_time_key - cy_time_key)< time_window :\n",
    "                    coincident_value = []\n",
    "                    coincident_value.append(key)\n",
    "                    coincident_value.append(hy_time_key)\n",
    "                    coincident_value.append(hy_swh_time_dict[key][hy_time_key])\n",
    "                    coincident_value.append(cy_time_key)\n",
    "                    coincident_value.append(cy_swh_time_dict[key][cy_time_key])\n",
    "                    hy_cy_coincident_list.append(coincident_value)\n",
    "    except KeyError:\n",
    "        print(key)"
   ]
  },
  {
   "cell_type": "code",
   "execution_count": 20,
   "metadata": {},
   "outputs": [],
   "source": [
    "hy_cy_df = pd.DataFrame(hy_cy_coincident_list, columns=['ij', 'hy_time', 'hy_value', 'other_time', 'other_value'])\n",
    "\n",
    "hy_cy_df['hy_time_round'] = ((hy_cy_df['hy_time'].astype(np.float))/time_window).astype(np.int)\n",
    "\n",
    "hy_cy_df['other_time_round'] = ((hy_cy_df['other_time'].astype(np.float))/time_window).astype(np.int)\n",
    "hy_cy_df['diff'] = hy_cy_df['hy_value'] - hy_cy_df['other_value']"
   ]
  },
  {
   "cell_type": "code",
   "execution_count": 21,
   "metadata": {},
   "outputs": [
    {
     "ename": "DataError",
     "evalue": "No numeric types to aggregate",
     "output_type": "error",
     "traceback": [
      "\u001b[1;31m---------------------------------------------------------------------------\u001b[0m",
      "\u001b[1;31mDataError\u001b[0m                                 Traceback (most recent call last)",
      "\u001b[1;32m<ipython-input-21-de79cc7ec480>\u001b[0m in \u001b[0;36m<module>\u001b[1;34m\u001b[0m\n\u001b[1;32m----> 1\u001b[1;33m \u001b[0mhy_cy_mean_df\u001b[0m \u001b[1;33m=\u001b[0m \u001b[0mhy_cy_df\u001b[0m\u001b[1;33m.\u001b[0m\u001b[0mgroupby\u001b[0m\u001b[1;33m(\u001b[0m\u001b[1;33m[\u001b[0m\u001b[1;34m'ij'\u001b[0m\u001b[1;33m,\u001b[0m\u001b[1;34m'hy_time_round'\u001b[0m\u001b[1;33m,\u001b[0m\u001b[1;34m'other_time_round'\u001b[0m\u001b[1;33m]\u001b[0m\u001b[1;33m)\u001b[0m\u001b[1;33m.\u001b[0m\u001b[0mmean\u001b[0m\u001b[1;33m(\u001b[0m\u001b[1;33m)\u001b[0m\u001b[1;33m\u001b[0m\u001b[1;33m\u001b[0m\u001b[0m\n\u001b[0m\u001b[0;32m      2\u001b[0m \u001b[1;33m\u001b[0m\u001b[0m\n\u001b[0;32m      3\u001b[0m \u001b[0mhy_cy_mean_df\u001b[0m\u001b[1;33m[\u001b[0m\u001b[1;34m'diff'\u001b[0m\u001b[1;33m]\u001b[0m \u001b[1;33m=\u001b[0m \u001b[0mhy_cy_mean_df\u001b[0m\u001b[1;33m[\u001b[0m\u001b[1;34m'hy_value'\u001b[0m\u001b[1;33m]\u001b[0m \u001b[1;33m-\u001b[0m \u001b[0mhy_cy_mean_df\u001b[0m\u001b[1;33m[\u001b[0m\u001b[1;34m'other_value'\u001b[0m\u001b[1;33m]\u001b[0m\u001b[1;33m\u001b[0m\u001b[1;33m\u001b[0m\u001b[0m\n",
      "\u001b[1;32me:\\anaconda3\\envs\\tf2\\lib\\site-packages\\pandas\\core\\groupby\\groupby.py\u001b[0m in \u001b[0;36mmean\u001b[1;34m(self, numeric_only)\u001b[0m\n\u001b[0;32m   1391\u001b[0m         \u001b[0mName\u001b[0m\u001b[1;33m:\u001b[0m \u001b[0mB\u001b[0m\u001b[1;33m,\u001b[0m \u001b[0mdtype\u001b[0m\u001b[1;33m:\u001b[0m \u001b[0mfloat64\u001b[0m\u001b[1;33m\u001b[0m\u001b[1;33m\u001b[0m\u001b[0m\n\u001b[0;32m   1392\u001b[0m         \"\"\"\n\u001b[1;32m-> 1393\u001b[1;33m         return self._cython_agg_general(\n\u001b[0m\u001b[0;32m   1394\u001b[0m             \u001b[1;34m\"mean\"\u001b[0m\u001b[1;33m,\u001b[0m\u001b[1;33m\u001b[0m\u001b[1;33m\u001b[0m\u001b[0m\n\u001b[0;32m   1395\u001b[0m             \u001b[0malt\u001b[0m\u001b[1;33m=\u001b[0m\u001b[1;32mlambda\u001b[0m \u001b[0mx\u001b[0m\u001b[1;33m,\u001b[0m \u001b[0maxis\u001b[0m\u001b[1;33m:\u001b[0m \u001b[0mSeries\u001b[0m\u001b[1;33m(\u001b[0m\u001b[0mx\u001b[0m\u001b[1;33m)\u001b[0m\u001b[1;33m.\u001b[0m\u001b[0mmean\u001b[0m\u001b[1;33m(\u001b[0m\u001b[0mnumeric_only\u001b[0m\u001b[1;33m=\u001b[0m\u001b[0mnumeric_only\u001b[0m\u001b[1;33m)\u001b[0m\u001b[1;33m,\u001b[0m\u001b[1;33m\u001b[0m\u001b[1;33m\u001b[0m\u001b[0m\n",
      "\u001b[1;32me:\\anaconda3\\envs\\tf2\\lib\\site-packages\\pandas\\core\\groupby\\generic.py\u001b[0m in \u001b[0;36m_cython_agg_general\u001b[1;34m(self, how, alt, numeric_only, min_count)\u001b[0m\n\u001b[0;32m   1017\u001b[0m         \u001b[0mself\u001b[0m\u001b[1;33m,\u001b[0m \u001b[0mhow\u001b[0m\u001b[1;33m:\u001b[0m \u001b[0mstr\u001b[0m\u001b[1;33m,\u001b[0m \u001b[0malt\u001b[0m\u001b[1;33m=\u001b[0m\u001b[1;32mNone\u001b[0m\u001b[1;33m,\u001b[0m \u001b[0mnumeric_only\u001b[0m\u001b[1;33m:\u001b[0m \u001b[0mbool\u001b[0m \u001b[1;33m=\u001b[0m \u001b[1;32mTrue\u001b[0m\u001b[1;33m,\u001b[0m \u001b[0mmin_count\u001b[0m\u001b[1;33m:\u001b[0m \u001b[0mint\u001b[0m \u001b[1;33m=\u001b[0m \u001b[1;33m-\u001b[0m\u001b[1;36m1\u001b[0m\u001b[1;33m\u001b[0m\u001b[1;33m\u001b[0m\u001b[0m\n\u001b[0;32m   1018\u001b[0m     ) -> DataFrame:\n\u001b[1;32m-> 1019\u001b[1;33m         agg_blocks, agg_items = self._cython_agg_blocks(\n\u001b[0m\u001b[0;32m   1020\u001b[0m             \u001b[0mhow\u001b[0m\u001b[1;33m,\u001b[0m \u001b[0malt\u001b[0m\u001b[1;33m=\u001b[0m\u001b[0malt\u001b[0m\u001b[1;33m,\u001b[0m \u001b[0mnumeric_only\u001b[0m\u001b[1;33m=\u001b[0m\u001b[0mnumeric_only\u001b[0m\u001b[1;33m,\u001b[0m \u001b[0mmin_count\u001b[0m\u001b[1;33m=\u001b[0m\u001b[0mmin_count\u001b[0m\u001b[1;33m\u001b[0m\u001b[1;33m\u001b[0m\u001b[0m\n\u001b[0;32m   1021\u001b[0m         )\n",
      "\u001b[1;32me:\\anaconda3\\envs\\tf2\\lib\\site-packages\\pandas\\core\\groupby\\generic.py\u001b[0m in \u001b[0;36m_cython_agg_blocks\u001b[1;34m(self, how, alt, numeric_only, min_count)\u001b[0m\n\u001b[0;32m   1126\u001b[0m \u001b[1;33m\u001b[0m\u001b[0m\n\u001b[0;32m   1127\u001b[0m         \u001b[1;32mif\u001b[0m \u001b[1;32mnot\u001b[0m \u001b[1;33m(\u001b[0m\u001b[0magg_blocks\u001b[0m \u001b[1;32mor\u001b[0m \u001b[0msplit_frames\u001b[0m\u001b[1;33m)\u001b[0m\u001b[1;33m:\u001b[0m\u001b[1;33m\u001b[0m\u001b[1;33m\u001b[0m\u001b[0m\n\u001b[1;32m-> 1128\u001b[1;33m             \u001b[1;32mraise\u001b[0m \u001b[0mDataError\u001b[0m\u001b[1;33m(\u001b[0m\u001b[1;34m\"No numeric types to aggregate\"\u001b[0m\u001b[1;33m)\u001b[0m\u001b[1;33m\u001b[0m\u001b[1;33m\u001b[0m\u001b[0m\n\u001b[0m\u001b[0;32m   1129\u001b[0m \u001b[1;33m\u001b[0m\u001b[0m\n\u001b[0;32m   1130\u001b[0m         \u001b[1;32mif\u001b[0m \u001b[0msplit_items\u001b[0m\u001b[1;33m:\u001b[0m\u001b[1;33m\u001b[0m\u001b[1;33m\u001b[0m\u001b[0m\n",
      "\u001b[1;31mDataError\u001b[0m: No numeric types to aggregate"
     ]
    }
   ],
   "source": [
    "hy_cy_mean_df = hy_cy_df.groupby(['ij','hy_time_round','other_time_round']).mean()\n",
    "\n",
    "hy_cy_mean_df['diff'] = hy_cy_mean_df['hy_value'] - hy_cy_mean_df['other_value']\n"
   ]
  },
  {
   "cell_type": "code",
   "execution_count": null,
   "metadata": {},
   "outputs": [],
   "source": [
    "hy_cy_mean_df.to_csv(dataframe_dir+'HY&CY swh' +str( years) + str(months) + '.csv')"
   ]
  },
  {
   "cell_type": "code",
   "execution_count": null,
   "metadata": {},
   "outputs": [],
   "source": [
    "'''hy_cy_mean_df = hy_cy_mean_df.drop(hy_cy_mean_df[hy_cy_mean_df.hy_value > hy_cy_mean_df['diff'].std() * 5 ].index)\n",
    "hy_cy_mean_df = hy_cy_mean_df.drop(hy_cy_mean_df[hy_cy_mean_df.other_value > hy_cy_mean_df['diff'].std() * 5 ].index)'''"
   ]
  },
  {
   "cell_type": "code",
   "execution_count": null,
   "metadata": {},
   "outputs": [],
   "source": [
    "plt.figure(figsize=(6, 6))\n",
    "plt.scatter(hy_cy_mean_df['hy_value'], hy_cy_mean_df['other_value'], marker='.')\n",
    "plt.plot(np.linspace(0,5),np.linspace(0,5),color='r')\n",
    "x_tick = range(0,5,2)\n",
    "plt.xticks(x_tick)\n",
    "plt.yticks(x_tick)\n",
    "plt.grid(True)\n",
    "plt.text(0.5, 2.8, 'Bias = '+str(round(hy_cy_mean_df['diff'].mean(), 3)))\n",
    "plt.text(0.5, 2.6, 'STD = '+str(round(hy_cy_mean_df['diff'].std(), 3)))\n",
    "plt.text(0.5,2.4,'Sample# = ' + str(hy_cy_mean_df.shape[0]))\n",
    "plt.text(0.5,3,'RMSE = ' + str(round(np.sqrt(mean_squared_error(hy_cy_mean_df['hy_value'], hy_cy_mean_df['other_value'])),3)))\n",
    "plt.text(0.5,3.2,'R^2 = ' + str(round(r2_score(hy_cy_mean_df['hy_value'], hy_cy_mean_df['other_value']),3)))\n",
    "plt.xlabel('HY2B ' + 'swh' + '(m)')\n",
    "\n",
    "plt.ylabel('CRYOSAT2 ' + 'swh' + '(m)')\n",
    "plt.title(str(years) + str(months) + 'HY & CY SWH' )\n",
    "# plt.savefig(r'output/'+ str( years) + str(months)  +'HY & CY' + 'swh' +' '+ 'scatter_plot.jpg')"
   ]
  },
  {
   "cell_type": "markdown",
   "metadata": {},
   "source": [
    "# HY和CRYOSAT2交叉点在图像上绘制出来"
   ]
  },
  {
   "cell_type": "code",
   "execution_count": null,
   "metadata": {},
   "outputs": [],
   "source": [
    "hy_cy_draw_df = hy_cy_df.groupby(['ij']).mean()\n",
    "hy_cy_draw_diff_grid = hy_alt.get_nan_grid(hy_alt.nlat, hy_alt.nlon)\n",
    "for i,index in enumerate(hy_cy_draw_df.index):\n",
    "    hy_cy_draw_diff_grid[int(index.split('+')[0])][int(index.split('+')[1])] = hy_cy_draw_df.loc[hy_cy_draw_df.index[i]]['diff']\n"
   ]
  },
  {
   "cell_type": "code",
   "execution_count": null,
   "metadata": {},
   "outputs": [],
   "source": [
    "plt.figure(figsize=(9, 9))\n",
    "polar_plot(cy_x_map, cy_y_map,hy_cy_draw_diff_grid,vmax=1, vmin = -1,color_lable='SWH (m)',title='HY & CY '+str(years[0]) + str(months[0]))\n",
    "plt.savefig(r'output/'+ str( years) + str(months)  +'HY & CY' + 'swh' +' '+ 'location_plot.jpg')"
   ]
  },
  {
   "cell_type": "markdown",
   "metadata": {},
   "source": [
    "# 对比hy与icesat交叉点 SWH\n"
   ]
  },
  {
   "cell_type": "code",
   "execution_count": null,
   "metadata": {},
   "outputs": [],
   "source": [
    "# 将两个grid数组相减，还有数据的部分为交叉点\n",
    "hy_is_grid = hy_swh_grid - is_swh_grid\n",
    "hy_is_diff_grid = np.argwhere(np.isnan(hy_is_grid)!= True)\n"
   ]
  },
  {
   "cell_type": "code",
   "execution_count": null,
   "metadata": {},
   "outputs": [],
   "source": [
    "# 创建一个用来存储点对的list\n",
    "hy_is_coincident_list = []\n",
    "hy_is_time_list = []\n",
    "for i in range(hy_is_diff_grid.shape[0]): \n",
    "    diff_x = hy_is_diff_grid[i][0]\n",
    "    diff_y = hy_is_diff_grid[i][1]\n",
    "    if diff_y>(hy_alt.nlat / 2):\n",
    "        diff_y -= hy_alt.nlat\n",
    "    key = str(diff_x) + '+' + str(diff_y)\n",
    "    try:\n",
    "        for is_time_key in is_swh_time_dict[key].keys():\n",
    "            for hy_time_key in hy_swh_time_dict[key].keys():\n",
    "                hy_is_time_list.append(np.abs(hy_time_key - is_time_key))\n",
    "                hy_is_time_list.append(key)\n",
    "\n",
    "                if np.abs(hy_time_key - is_time_key)< time_window :\n",
    "                    coincident_value = []\n",
    "                    coincident_value.append(key)\n",
    "                    coincident_value.append(hy_time_key)\n",
    "                    coincident_value.append(hy_swh_time_dict[key][hy_time_key])\n",
    "                    coincident_value.append(is_time_key)\n",
    "                    coincident_value.append(is_swh_time_dict[key][is_time_key])\n",
    "                    hy_is_coincident_list.append(coincident_value)\n",
    "    except KeyError:\n",
    "        print(key)"
   ]
  },
  {
   "cell_type": "code",
   "execution_count": null,
   "metadata": {},
   "outputs": [],
   "source": [
    "hy_is_df = pd.DataFrame(hy_is_coincident_list, columns=['ij', 'hy_time', 'hy_value', 'other_time', 'other_value'])\n",
    "\n",
    "hy_is_df['hy_time_round'] = ((hy_is_df['hy_time'].astype(np.float))/time_window).astype(np.int)\n",
    "\n",
    "hy_is_df['other_time_round'] = ((hy_is_df['other_time'].astype(np.float))/time_window).astype(np.int)\n",
    "\n",
    "hy_is_mean_df = hy_is_df.groupby(['ij','hy_time_round','other_time_round']).mean()\n",
    "\n",
    "hy_is_mean_df['diff'] = hy_is_mean_df['hy_value'] - hy_is_mean_df['other_value']"
   ]
  },
  {
   "cell_type": "code",
   "execution_count": null,
   "metadata": {},
   "outputs": [],
   "source": [
    "hy_is_mean_df.to_csv(dataframe_dir+'HY&IS swh' +str( years) + str(months) + '.csv')"
   ]
  },
  {
   "cell_type": "code",
   "execution_count": null,
   "metadata": {},
   "outputs": [],
   "source": [
    "'''hy_is_mean_df = hy_is_mean_df.drop(hy_is_mean_df[hy_is_mean_df.hy_value > hy_is_mean_df['diff'].std() * 5 ].index)\n",
    "hy_is_mean_df = hy_is_mean_df.drop(hy_is_mean_df[hy_is_mean_df.other_value > hy_is_mean_df['diff'].std() * 5 ].index)'''"
   ]
  },
  {
   "cell_type": "code",
   "execution_count": null,
   "metadata": {},
   "outputs": [],
   "source": [
    "plt.figure(figsize=(6, 6))\n",
    "plt.scatter(hy_is_mean_df['hy_value'], hy_is_mean_df['other_value'], marker='.')\n",
    "plt.plot(np.linspace(0,4),np.linspace(0,4),color='r')\n",
    "x_tick = range(0,5,1)\n",
    "plt.xticks(x_tick)\n",
    "plt.yticks(x_tick)\n",
    "plt.grid(True)\n",
    "plt.text(0.5, 2.8, 'Bias = '+str(round(hy_is_mean_df['diff'].mean(), 3)))\n",
    "plt.text(0.5, 2.6, 'STD = '+str(round(hy_is_mean_df['diff'].std(), 3)))\n",
    "plt.text(0.5,2.4,'Sample# = ' + str(hy_is_mean_df.shape[0]))\n",
    "plt.text(0.5,3,'RMSE = ' + str(round(np.sqrt(mean_squared_error(hy_is_mean_df['hy_value'], hy_is_mean_df['other_value'])),3)))\n",
    "plt.text(0.5,3.2,'R^2 = ' + str(round(r2_score(hy_is_mean_df['hy_value'], hy_is_mean_df['other_value']),3)))\n",
    "\n",
    "plt.xlabel('HY2B ' + 'swh' + '(m)')\n",
    "plt.ylabel('ICESAT2 ' + 'swh' + '(m)')\n",
    "plt.title('HY & IS SWH '+str(years[0]) + str(months[0]) )\n",
    "\n",
    "# plt.savefig(r'output/'+'2019-2020' +  str(months) +'HY & IS' + 'swh' +' '+ 'scatter_plot.jpg')\n",
    "plt.savefig(r'output/'+ str( years) + str(months)  +'HY & IS' + 'swh' +' '+ 'scatter_plot.jpg')"
   ]
  },
  {
   "cell_type": "markdown",
   "metadata": {},
   "source": [
    "# HY和IS交叉点SWH在图像上绘制出来"
   ]
  },
  {
   "cell_type": "code",
   "execution_count": null,
   "metadata": {},
   "outputs": [],
   "source": [
    "hy_is_draw_diff_grid = hy_alt.get_nan_grid(hy_alt.nlat, hy_alt.nlon)\n",
    "for i,index in enumerate(hy_is_mean_df.index):\n",
    "    hy_is_draw_diff_grid[int(index[0].split('+')[0])][int(index[0].split('+')[1])] = hy_is_mean_df.loc[hy_is_mean_df.index[i]]['diff']\n"
   ]
  },
  {
   "cell_type": "code",
   "execution_count": null,
   "metadata": {},
   "outputs": [],
   "source": [
    "plt.figure(figsize=(9, 9))\n",
    "polar_plot(is_x_map, is_y_map,hy_is_draw_diff_grid,vmax=1, vmin = -1,color_lable='SWH (m)',title='HY & IS '+str(years[0]) + str(months[0]))\n",
    "plt.savefig(r'output/'+ str( years) + str(months)  +'HY & IS' + 'swh' +' '+ 'location_plot.jpg')"
   ]
  },
  {
   "cell_type": "markdown",
   "metadata": {},
   "source": [
    "# 对比HY和ICESAT2 SSH的数据"
   ]
  },
  {
   "cell_type": "code",
   "execution_count": null,
   "metadata": {},
   "outputs": [],
   "source": [
    "# 创建一个用来存储点对的list\n",
    "hy_is_ssh_coincident_list = []\n",
    "hy_is_time_list = []\n",
    "for i in range(hy_is_diff_grid.shape[0]): \n",
    "    diff_x = hy_is_diff_grid[i][0]\n",
    "    diff_y = hy_is_diff_grid[i][1]\n",
    "    if diff_y>(hy_alt.nlat / 2):\n",
    "        diff_y -= hy_alt.nlat\n",
    "    key = str(diff_x) + '+' + str(diff_y)\n",
    "                   \n",
    "    for is_time_key in is_ssh_time_dict[key].keys():\n",
    "        for hy_time_key in hy_ssh_time_dict[key].keys():\n",
    "            hy_is_time_list.append(np.abs(hy_time_key - is_time_key))\n",
    "            hy_is_time_list.append(key)\n",
    "            \n",
    "            if np.abs(hy_time_key - is_time_key)< time_window :\n",
    "                coincident_value = []\n",
    "                coincident_value.append(key)\n",
    "                coincident_value.append(hy_time_key)\n",
    "                coincident_value.append(hy_ssh_time_dict[key][hy_time_key])\n",
    "                coincident_value.append(is_time_key)\n",
    "                coincident_value.append(is_ssh_time_dict[key][is_time_key])\n",
    "                hy_is_ssh_coincident_list.append(coincident_value)"
   ]
  },
  {
   "cell_type": "code",
   "execution_count": null,
   "metadata": {},
   "outputs": [],
   "source": [
    "hy_is_df = pd.DataFrame(hy_is_ssh_coincident_list, columns=['ij', 'hy_time', 'hy_value', 'other_time', 'other_value'])\n",
    "\n",
    "hy_is_df['hy_time_round'] = ((hy_is_df['hy_time'].astype(np.float))/time_window).astype(np.int)\n",
    "\n",
    "hy_is_df['other_time_round'] = ((hy_is_df['other_time'].astype(np.float))/time_window).astype(np.int)\n",
    "\n",
    "hy_is_mean_df = hy_is_df.groupby(['ij','hy_time_round','other_time_round']).mean()\n",
    "\n",
    "hy_is_mean_df['diff'] = hy_is_mean_df['hy_value'] - hy_is_mean_df['other_value']"
   ]
  },
  {
   "cell_type": "code",
   "execution_count": null,
   "metadata": {},
   "outputs": [],
   "source": [
    "hy_is_mean_df.to_csv(dataframe_dir+'HY&IS ssh' +str( years) + str(months) + '.csv')"
   ]
  },
  {
   "cell_type": "code",
   "execution_count": null,
   "metadata": {},
   "outputs": [],
   "source": [
    "'''hy_is_mean_df = hy_is_mean_df.drop(hy_is_mean_df[hy_is_mean_df.hy_value > hy_is_mean_df['diff'].std() * 5 ].index)\n",
    "hy_is_mean_df = hy_is_mean_df.drop(hy_is_mean_df[hy_is_mean_df.other_value > hy_is_mean_df['diff'].std() * 5 ].index)'''"
   ]
  },
  {
   "cell_type": "code",
   "execution_count": null,
   "metadata": {},
   "outputs": [],
   "source": [
    "plt.figure(figsize=(6, 6))\n",
    "plt.scatter(hy_is_mean_df['hy_value'], hy_is_mean_df['other_value'], marker='.')\n",
    "plt.plot(np.linspace(0,60),np.linspace(0,60),color='r')\n",
    "x_tick = range(0,61,10)\n",
    "plt.xticks(x_tick)\n",
    "plt.yticks(x_tick)\n",
    "plt.grid(True)\n",
    "plt.text(10, 30, 'Bias = '+str(round(hy_is_mean_df['diff'].mean(), 3)))\n",
    "plt.text(10, 35, 'STD = '+str(round(hy_is_mean_df['diff'].std(), 3)))\n",
    "plt.text(10,40,'Sample# = ' + str(hy_is_mean_df.shape[0]))\n",
    "plt.text(10,45,'RMSE = ' + str(round(np.sqrt(mean_squared_error(hy_is_mean_df['hy_value'], hy_is_mean_df['other_value'])),3)))\n",
    "plt.text(10,50,'R^2 = ' + str(round(r2_score(hy_is_mean_df['hy_value'], hy_is_mean_df['other_value']),3)))\n",
    "\n",
    "plt.xlabel('HY2B ' + 'ssh' + '(m)')\n",
    "plt.ylabel('ICESAT2 ' + 'ssh' + '(m)')\n",
    "plt.title('HY & IS SSH '+str(years[0]) + str(months[0]) )\n",
    "\n",
    "# plt.savefig(r'output/'+'2019-2020' +  str(months) +'HY & IS' + 'ssh' +' '+ 'scatter_plot.jpg')\n",
    "plt.savefig(r'output/'+ str( years) + str(months)  +'HY & IS' + 'ssh' +' '+ 'scatter_plot.jpg')"
   ]
  },
  {
   "cell_type": "markdown",
   "metadata": {},
   "source": [
    "# HY和IS交叉点 SSH在图像上绘制出来"
   ]
  },
  {
   "cell_type": "code",
   "execution_count": null,
   "metadata": {},
   "outputs": [],
   "source": [
    "hy_is_draw_diff_grid = hy_alt.get_nan_grid(hy_alt.nlat, hy_alt.nlon)\n",
    "for i,index in enumerate(hy_is_mean_df.index):\n",
    "    hy_is_draw_diff_grid[int(index[0].split('+')[0])][int(index[0].split('+')[1])] = hy_is_mean_df.loc[hy_is_mean_df.index[i]]['diff']\n"
   ]
  },
  {
   "cell_type": "code",
   "execution_count": null,
   "metadata": {},
   "outputs": [],
   "source": [
    "plt.figure(figsize=(9, 9))\n",
    "polar_plot(is_x_map, is_y_map,hy_is_draw_diff_grid,vmax=1, vmin = -1,color_lable='SSH (m)',title='HY & IS '+str(years[0]) + str(months[0]))\n",
    "plt.savefig(r'output/'+ str( years) + str(months)  +'HY & IS' + 'ssh' +' '+ 'location_plot.jpg')"
   ]
  },
  {
   "cell_type": "markdown",
   "metadata": {},
   "source": [
    "# 计算交叉点最多的日期"
   ]
  },
  {
   "cell_type": "markdown",
   "metadata": {},
   "source": [
    "import datetime\n",
    "def conver_time(julian_time):\n",
    "    '''\n",
    "    将从'2000-01-01 00:00:00 开始的JulianDay 转换为%Y-%m-%d %H:%M:%S 格式的时间\n",
    "    '''\n",
    "    strTime = '2000-01-01 00:00:00'\n",
    "    startTime = datetime.datetime.strptime(strTime, \"%Y-%m-%d %H:%M:%S\") \n",
    "    Time = (startTime + datetime.timedelta(seconds=julian_time)).strftime(\"%Y-%m-%d %H:%M:%S\")\n",
    "    return Time\n",
    "\n",
    "\n",
    "    \n",
    "\n",
    "hy_is_mean_df['hy_day'] = (hy_is_mean_df['hy_time']/86400).astype(np.int)\n",
    "hy_is_mean_df['other_day'] = (hy_is_mean_df['other_time']/86400).astype(np.int)\n",
    "\n",
    "hy_cy_mean_df['hy_day'] = (hy_cy_mean_df['hy_time']/86400).astype(np.int)\n",
    "hy_cy_mean_df['other_day'] = (hy_cy_mean_df['other_time']/86400).astype(np.int)\n",
    "\n",
    "# 统计重合点最多的日期\n",
    "hy_is_top_num_day = hy_is_mean_df['hy_day'].value_counts().index[0]\n",
    "\n",
    "hy_cy_top_num_day = hy_cy_mean_df['hy_day'].value_counts().index[0]\n",
    "\n",
    "hy_cy_mean_df['hy_format_time'] = hy_cy_mean_df['hy_time'].apply(conver_time)\n",
    "hy_cy_mean_df['other_format_time'] = hy_cy_mean_df['other_time'].apply(conver_time)\n",
    "\n",
    "hy_is_mean_df['hy_format_time'] = hy_is_mean_df['hy_time'].apply(conver_time)\n",
    "hy_is_mean_df['other_format_time'] = hy_is_mean_df['other_time'].apply(conver_time)\n",
    "\n",
    "hy_cy_one_day_df = hy_cy_mean_df[hy_cy_mean_df['hy_day'] == hy_cy_top_num_day][['hy_format_time','other_format_time','hy_value','other_value','diff']]\n",
    "\n",
    "hy_is_one_day_df = hy_is_mean_df[hy_is_mean_df['hy_day'] == hy_is_top_num_day][['hy_format_time','other_format_time','hy_value','other_value','diff']]"
   ]
  }
 ],
 "metadata": {
  "kernelspec": {
   "display_name": "Python 3",
   "language": "python",
   "name": "python3"
  },
  "language_info": {
   "codemirror_mode": {
    "name": "ipython",
    "version": 3
   },
   "file_extension": ".py",
   "mimetype": "text/x-python",
   "name": "python",
   "nbconvert_exporter": "python",
   "pygments_lexer": "ipython3",
   "version": "3.8.5"
  }
 },
 "nbformat": 4,
 "nbformat_minor": 4
}
