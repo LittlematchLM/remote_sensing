{
 "cells": [
  {
   "cell_type": "markdown",
   "source": [
    "# HY2B SWH对比"
   ],
   "metadata": {
    "collapsed": false
   }
  },
  {
   "cell_type": "code",
   "execution_count": null,
   "outputs": [],
   "source": [
    "from HaiYangData import *\n",
    "import glob"
   ],
   "metadata": {
    "collapsed": false,
    "pycharm": {
     "name": "#%%\n"
    }
   }
  },
  {
   "cell_type": "code",
   "execution_count": null,
   "outputs": [],
   "source": [
    "# 设置空间分辨率\n",
    "years = ['2019']\n",
    "months = ['08']\n",
    "hy_value = ['swh_ku','swh_c','rain_flag','ice_flag','surface_type']\n",
    "time_window = 1800\n",
    "hy_fill_value = 32767"
   ],
   "metadata": {
    "collapsed": false,
    "pycharm": {
     "name": "#%%\n"
    }
   }
  },
  {
   "cell_type": "code",
   "execution_count": null,
   "outputs": [],
   "source": [
    "# 将WGS 84坐标（4326）转化为极射投影\n",
    "crs = CRS.from_epsg(4326)\n",
    "crs = CRS.from_string(\"epsg:4326\")\n",
    "crs = CRS.from_proj4(\"+proj=latlon\")\n",
    "crs = CRS.from_user_input(4326)\n",
    "crs2 = CRS(proj=\"aeqd\")\n",
    "\n",
    "transformer = HaiYangData.set_transformer(crs,crs2)\n",
    "transformer_back = HaiYangData.set_transformer(crs2,crs)"
   ],
   "metadata": {
    "collapsed": false,
    "pycharm": {
     "name": "#%%\n"
    }
   }
  },
  {
   "cell_type": "code",
   "execution_count": null,
   "outputs": [],
   "source": [
    "hyfiles = []\n",
    "for yea in years:\n",
    "    for mon in months:\n",
    "        hy_dir_path = r'/mnt/data12/users/hanlu/data/hy2b/ALT/'+yea + '/' + mon\n",
    "        hyfiles = hyfiles + (glob.glob(hy_dir_path + '/*.nc'))\n",
    "hyfiles.sort()"
   ],
   "metadata": {
    "collapsed": false,
    "pycharm": {
     "name": "#%%\n"
    }
   }
  },
  {
   "cell_type": "code",
   "execution_count": null,
   "outputs": [],
   "source": [
    "%%time\n",
    "hy_alt = HaiYangData(satellite='hy', sensor='alt',resolution=10000)\n",
    "hy_ori_df = pd.DataFrame(np.column_stack((hy_alt.alt_from_nc_files(hyfiles, value=hy_value))), columns=['lon', 'lat', 'time']+hy_value)"
   ],
   "metadata": {
    "collapsed": false,
    "pycharm": {
     "name": "#%%\n"
    }
   }
  },
  {
   "cell_type": "code",
   "execution_count": null,
   "outputs": [],
   "source": [
    "# 删除无效点,只处理北纬66°以上的数据\n",
    "hy_df = hy_ori_df.drop(list(np.where(hy_ori_df['swh_ku'] == hy_fill_value)[0][:]))\n",
    "hy_df = hy_alt.data_filter(hy_df,'lat',66)"
   ],
   "metadata": {
    "collapsed": false,
    "pycharm": {
     "name": "#%%\n"
    }
   }
  },
  {
   "cell_type": "code",
   "execution_count": null,
   "outputs": [],
   "source": [
    "# 将投影数据添加到dataframe中\n",
    "hy_alt.add_proj(hy_df, transformer)\n",
    "\n",
    "# 交叉点平均化\n",
    "hy_mean_grid = hy_alt.coincident_point_mean(hy_df,'swh_ku')\n",
    "\n",
    "# 获得XYmgrid\n",
    "hy_x_map, hy_y_map = hy_alt.get_map_grid(transformer_back)"
   ],
   "metadata": {
    "collapsed": false,
    "pycharm": {
     "name": "#%%\n"
    }
   }
  },
  {
   "cell_type": "code",
   "execution_count": null,
   "outputs": [],
   "source": [
    "plt.figure(figsize=(10, 10))\n",
    "hy_m = Basemap(projection='npaeqd', boundinglat=66, lon_0=180, resolution='c')\n",
    "hy_m.pcolormesh(hy_x_map, hy_y_map, data=hy_mean_grid, cmap=plt.cm.jet,vmin=0, vmax=5,latlon = True)\n",
    "hy_m.colorbar(location='right')\n",
    "hy_m.fillcontinents()\n",
    "hy_m.drawmapboundary()\n",
    "hy_m.drawparallels(np.arange(-90., 120., 10.), labels=[1, 0, 0, 0])\n",
    "hy_m.drawmeridians(np.arange(-180., 180., 60.), labels=[0, 0, 0, 1])\n",
    "# plt.title(\"HY2B SWH  \"+ year+ month)\n",
    "plt.show()\n",
    "plt.close()"
   ],
   "metadata": {
    "collapsed": false,
    "pycharm": {
     "name": "#%%\n"
    }
   }
  },
  {
   "cell_type": "code",
   "execution_count": null,
   "outputs": [],
   "source": [
    "fig , ax = plt.subplots()\n",
    "hy_df['swh_ku'].hist(ax=ax, bins=100)\n",
    "ax.set_yscale('log')\n",
    "plt.show()"
   ],
   "metadata": {
    "collapsed": false,
    "pycharm": {
     "name": "#%%\n"
    }
   }
  },
  {
   "cell_type": "markdown",
   "source": [
    "# Cryosat 数据处理"
   ],
   "metadata": {
    "collapsed": false
   }
  },
  {
   "cell_type": "code",
   "execution_count": null,
   "outputs": [],
   "source": [
    "cyfiles = []\n",
    "cy_fill_value = -32768\n",
    "\n",
    "for yea in years:\n",
    "    for mon in months:\n",
    "        cy_dir_path = r'/mnt/data12/users/hanlu/data/cryosat2/'+yea + '/' + mon\n",
    "        cyfiles = cyfiles + (glob.glob(cy_dir_path + '/*.nc'))\n",
    "cyfiles.sort()"
   ],
   "metadata": {
    "collapsed": false,
    "pycharm": {
     "name": "#%%\n"
    }
   }
  },
  {
   "cell_type": "code",
   "execution_count": null,
   "outputs": [],
   "source": [
    "%%time\n",
    "cy_value = ['swh_ocean_01_ku']\n",
    "cy_siral = HaiYangData(satellite='cy', sensor='siral',resolution=10000)\n",
    "cy_ori_df = pd.DataFrame(np.column_stack((cy_siral.cy_siral_from_nc(cyfiles, value=cy_value))), columns=['lon', 'lat', 'time']+cy_value)"
   ],
   "metadata": {
    "collapsed": false,
    "pycharm": {
     "name": "#%%\n"
    }
   }
  },
  {
   "cell_type": "code",
   "execution_count": null,
   "outputs": [],
   "source": [
    "# 删除无效点,只处理北纬66°以上的数据\n",
    "cy_df = cy_ori_df.drop(list(np.where(cy_ori_df['swh_ocean_01_ku'] == cy_fill_value)[0][:]))\n",
    "cy_df = cy_siral.data_filter(cy_df,'lat',66)"
   ],
   "metadata": {
    "collapsed": false,
    "pycharm": {
     "name": "#%%\n"
    }
   }
  },
  {
   "cell_type": "code",
   "execution_count": null,
   "outputs": [],
   "source": [
    "fig,ax = plt.subplots()\n",
    "cy_df.swh_ocean_01_ku.hist(ax=ax,bins=100)\n",
    "ax.set_yscale('log')"
   ],
   "metadata": {
    "collapsed": false,
    "pycharm": {
     "name": "#%%\n"
    }
   }
  },
  {
   "cell_type": "code",
   "execution_count": null,
   "outputs": [],
   "source": [
    "# 将投影数据添加到dataframe中\n",
    "cy_siral.add_proj(cy_df, transformer)\n",
    "\n",
    "# 交叉点平均化\n",
    "cy_mean_grid = cy_siral.coincident_point_mean(cy_df,'swh_ocean_01_ku')\n",
    "\n",
    "# 获得XYmgrid\n",
    "cy_x_map, cy_y_map = cy_siral.get_map_grid(transformer_back)"
   ],
   "metadata": {
    "collapsed": false,
    "pycharm": {
     "name": "#%%\n"
    }
   }
  },
  {
   "cell_type": "code",
   "execution_count": null,
   "outputs": [],
   "source": [
    "plt.figure(figsize=(10, 10))\n",
    "cy_m = Basemap(projection='npaeqd', boundinglat=66, lon_0=180, resolution='c')\n",
    "cy_m.pcolormesh(cy_x_map, cy_y_map, data=cy_mean_grid, cmap=plt.cm.jet,vmin=0, vmax=5,latlon = True)\n",
    "cy_m.colorbar(location='right')\n",
    "cy_m.fillcontinents()\n",
    "cy_m.drawmapboundary()\n",
    "cy_m.drawparallels(np.arange(-90., 120., 10.), labels=[1, 0, 0, 0])\n",
    "cy_m.drawmeridians(np.arange(-180., 180., 60.), labels=[0, 0, 0, 1])\n",
    "# plt.title(\"cy2 SWH  \"+ year+ month)\n",
    "plt.show()\n",
    "plt.close()"
   ],
   "metadata": {
    "collapsed": false,
    "pycharm": {
     "name": "#%%\n"
    }
   }
  },
  {
   "cell_type": "markdown",
   "source": [
    "# ICESAT2 数据处理"
   ],
   "metadata": {
    "collapsed": false
   }
  },
  {
   "cell_type": "code",
   "execution_count": null,
   "outputs": [],
   "source": [
    "%%time\n",
    "# icesat2 的时间是从2018-01-01 00：00：00开始记的，Hy2b和cryosat2的是从2000-01-01 00：00：00开始计的\n",
    "# 2018-01-01 00：00：00 与2000-01-01 00：00：00 相差了568080000秒\n",
    "correction_second = 568080000\n",
    "\n",
    "isfiles = []\n",
    "for yea in years:\n",
    "    for mon in months:\n",
    "        is_dir_path = r'/mnt/data12/users/hanlu/data/icesat2/'+yea + '/' + mon\n",
    "        isfiles = isfiles + (glob.glob(is_dir_path + '/*.h5'))\n",
    "isfiles.sort()"
   ],
   "metadata": {
    "collapsed": false,
    "pycharm": {
     "name": "#%%\n"
    }
   }
  },
  {
   "cell_type": "code",
   "execution_count": null,
   "outputs": [],
   "source": [
    "%%time\n",
    "cy_value = ['swh_ocean_01_ku']\n",
    "cy_siral = HaiYangData(satellite='cy', sensor='siral',resolution=10000)\n",
    "cy_ori_df = pd.DataFrame(np.column_stack((cy_siral.cy_siral_from_nc(cyfiles, value=cy_value))), columns=['lon', 'lat', 'time']+cy_value)"
   ],
   "metadata": {
    "collapsed": false,
    "pycharm": {
     "name": "#%%\n"
    }
   }
  },
  {
   "cell_type": "code",
   "execution_count": null,
   "outputs": [],
   "source": [
    "cy_df.min()"
   ],
   "metadata": {
    "collapsed": false,
    "pycharm": {
     "name": "#%%\n"
    }
   }
  },
  {
   "cell_type": "code",
   "execution_count": null,
   "outputs": [],
   "source": [
    "# 删除无效点,只处理北纬66°以上的数据\n",
    "cy_df = cy_ori_df.drop(list(np.where(cy_ori_df['swh_ocean_01_ku'] == cy_fill_value)[0][:]))\n",
    "cy_df = cy_siral.data_filter(cy_df,'lat',66)"
   ],
   "metadata": {
    "collapsed": false,
    "pycharm": {
     "name": "#%%\n"
    }
   }
  },
  {
   "cell_type": "code",
   "execution_count": null,
   "outputs": [],
   "source": [
    "fig,ax = plt.subplots()\n",
    "cy_df.swh_ocean_01_ku.hist(ax=ax,bins=100)\n",
    "ax.set_yscale('log')"
   ],
   "metadata": {
    "collapsed": false,
    "pycharm": {
     "name": "#%%\n"
    }
   }
  },
  {
   "cell_type": "code",
   "execution_count": null,
   "outputs": [],
   "source": [
    "cy_df.swh_ocean_01_ku.min()"
   ],
   "metadata": {
    "collapsed": false,
    "pycharm": {
     "name": "#%%\n"
    }
   }
  },
  {
   "cell_type": "code",
   "execution_count": null,
   "outputs": [],
   "source": [
    "# 将投影数据添加到dataframe中\n",
    "cy_siral.add_proj(cy_df, transformer)\n",
    "\n",
    "# 交叉点平均化\n",
    "mean_grid = cy_siral.coincident_point_mean(cy_df,'swh_ocean_01_ku')\n",
    "\n",
    "# 获得XYmgrid\n",
    "cy_x_map, cy_y_map = cy_siral.get_map_grid(transformer_back)"
   ],
   "metadata": {
    "collapsed": false,
    "pycharm": {
     "name": "#%%\n"
    }
   }
  },
  {
   "cell_type": "code",
   "execution_count": null,
   "outputs": [],
   "source": [
    "plt.figure(figsize=(10, 10))\n",
    "cy_m = Basemap(projection='npaeqd', boundinglat=66, lon_0=180, resolution='c')\n",
    "cy_m.pcolormesh(cy_x_map, cy_y_map, data=mean_grid, cmap=plt.cm.jet,vmin=0, vmax=5,latlon = True)\n",
    "cy_m.colorbar(location='right')\n",
    "cy_m.fillcontinents()\n",
    "cy_m.drawmapboundary()\n",
    "cy_m.drawparallels(np.arange(-90., 120., 10.), labels=[1, 0, 0, 0])\n",
    "cy_m.drawmeridians(np.arange(-180., 180., 60.), labels=[0, 0, 0, 1])\n",
    "# plt.title(\"cy2 SWH  \"+ year+ month)\n",
    "plt.show()\n",
    "plt.close()"
   ],
   "metadata": {
    "collapsed": false,
    "pycharm": {
     "name": "#%%\n"
    }
   }
  },
  {
   "cell_type": "code",
   "execution_count": null,
   "outputs": [],
   "source": [],
   "metadata": {
    "collapsed": false,
    "pycharm": {
     "name": "#%%\n"
    }
   }
  },
  {
   "cell_type": "code",
   "execution_count": null,
   "outputs": [],
   "source": [],
   "metadata": {
    "collapsed": false,
    "pycharm": {
     "name": "#%%\n"
    }
   }
  },
  {
   "cell_type": "code",
   "execution_count": null,
   "outputs": [],
   "source": [],
   "metadata": {
    "collapsed": false,
    "pycharm": {
     "name": "#%%\n"
    }
   }
  },
  {
   "cell_type": "code",
   "execution_count": null,
   "outputs": [],
   "source": [],
   "metadata": {
    "collapsed": false,
    "pycharm": {
     "name": "#%%\n"
    }
   }
  },
  {
   "cell_type": "code",
   "execution_count": null,
   "outputs": [],
   "source": [],
   "metadata": {
    "collapsed": false,
    "pycharm": {
     "name": "#%%\n"
    }
   }
  },
  {
   "cell_type": "code",
   "execution_count": null,
   "outputs": [],
   "source": [],
   "metadata": {
    "collapsed": false,
    "pycharm": {
     "name": "#%%\n"
    }
   }
  },
  {
   "cell_type": "markdown",
   "source": [
    "# 对比hy与cryosat交叉点\n"
   ],
   "metadata": {
    "collapsed": false
   }
  },
  {
   "cell_type": "code",
   "execution_count": null,
   "outputs": [],
   "source": [
    "plt.pcolor(hy_mean_grid)"
   ],
   "metadata": {
    "collapsed": false,
    "pycharm": {
     "name": "#%%\n"
    }
   }
  },
  {
   "cell_type": "code",
   "execution_count": null,
   "outputs": [],
   "source": [
    "plt.pcolor(cy_mean_grid)"
   ],
   "metadata": {
    "collapsed": false,
    "pycharm": {
     "name": "#%%\n"
    }
   }
  },
  {
   "cell_type": "code",
   "execution_count": null,
   "outputs": [],
   "source": [
    "# 将两个grid数组相减，还有数据的部分为交叉点\n",
    "hy_cy_grid = hy_mean_grid - cy_mean_grid\n",
    "hy_cy_diff_grid = np.argwhere(np.isnan(hy_cy_grid)!= True)"
   ],
   "metadata": {
    "collapsed": false,
    "pycharm": {
     "name": "#%%\n"
    }
   }
  },
  {
   "cell_type": "code",
   "execution_count": null,
   "outputs": [],
   "source": [
    "cy_time_dict = dict(cy_siral.coincident_time_log(cy_df,value='swh_ocean_01_ku'))\n",
    "hy_time_dict = dict(hy_alt.coincident_time_log(hy_df,value='swh_ku'))\n"
   ],
   "metadata": {
    "collapsed": false,
    "pycharm": {
     "name": "#%%\n"
    }
   }
  },
  {
   "cell_type": "code",
   "execution_count": null,
   "outputs": [],
   "source": [
    "# 创建一个用来存储点对的list\n",
    "hy_cy_coincident_list = []\n",
    "hy_cy_time_list = []\n",
    "for i in range(hy_cy_diff_grid.shape[0]): \n",
    "    diff_x = hy_cy_diff_grid[i][0]\n",
    "    diff_y = hy_cy_diff_grid[i][1]\n",
    "    if diff_y>(hy_alt.nlat / 2):\n",
    "        diff_y -= hy_alt.nlat\n",
    "    key = str(diff_x) + '+' + str(diff_y)\n",
    "    \n",
    "    for cy_time_key in cy_time_dict[key].keys():\n",
    "        for hy_time_key in hy_time_dict[key].keys():\n",
    "            hy_cy_time_list.append(np.abs(hy_time_key - cy_time_key))\n",
    "            hy_cy_time_list.append(key)\n",
    "            \n",
    "            if np.abs(hy_time_key - cy_time_key)< time_window :\n",
    "                coincident_value = []\n",
    "                coincident_value.append(key)\n",
    "                coincident_value.append(hy_time_key)\n",
    "                coincident_value.append(hy_time_dict[key][hy_time_key])\n",
    "                coincident_value.append(cy_time_key)\n",
    "                coincident_value.append(cy_time_dict[key][cy_time_key])\n",
    "                hy_cy_coincident_list.append(coincident_value)\n"
   ],
   "metadata": {
    "collapsed": false,
    "pycharm": {
     "name": "#%%\n"
    }
   }
  },
  {
   "cell_type": "code",
   "execution_count": null,
   "outputs": [],
   "source": [
    "hy_cy_coincident_list"
   ],
   "metadata": {
    "collapsed": false,
    "pycharm": {
     "name": "#%%\n"
    }
   }
  },
  {
   "cell_type": "code",
   "execution_count": null,
   "outputs": [],
   "source": [
    "hy_cy_df = pd.DataFrame(hy_cy_coincident_list, columns=['ij', 'hy_time', 'hy_value', 'other_time', 'other_value'])\n",
    "hy_cy_df['diff'] = hy_cy_df['hy_value'] - hy_cy_df['other_value']\n",
    "\n",
    "hy_cy_df_west = pd.DataFrame(hy_cy_coincident_list_west, columns=['ij', 'hy_time', 'hy_value', 'other_time', 'other_value'])\n",
    "hy_cy_df_west['diff'] = hy_cy_df_west['hy_value'] - hy_cy_df_west['other_value']"
   ],
   "metadata": {
    "collapsed": false,
    "pycharm": {
     "name": "#%%\n"
    }
   }
  },
  {
   "cell_type": "code",
   "execution_count": null,
   "outputs": [],
   "source": [
    "hy_cy_df_glob = pd.concat([hy_cy_df, hy_cy_df_west], axis=0)\n",
    "print(hy_cy_df_glob.shape[0],hy_cy_df_glob['hy_value'].mean(),hy_cy_df_glob['other_value'].mean(),hy_cy_df_glob['diff'].mean(),hy_cy_df_glob['diff'].std())"
   ],
   "metadata": {
    "collapsed": false,
    "pycharm": {
     "name": "#%%\n"
    }
   }
  },
  {
   "cell_type": "code",
   "execution_count": null,
   "outputs": [],
   "source": [
    "hy_cy_df_glob.to_csv(r'output/'+'2020'+'/year/'+str(years) +hy_value+'hy_cy_df_pol_two_year.csv')"
   ],
   "metadata": {
    "collapsed": false,
    "pycharm": {
     "name": "#%%\n"
    }
   }
  }
 ],
 "metadata": {
  "kernelspec": {
   "display_name": "han",
   "language": "python",
   "name": "han"
  },
  "language_info": {
   "codemirror_mode": {
    "name": "ipython",
    "version": 3
   },
   "file_extension": ".py",
   "mimetype": "text/x-python",
   "name": "python",
   "nbconvert_exporter": "python",
   "pygments_lexer": "ipython3",
   "version": "3.8.5"
  }
 },
 "nbformat": 4,
 "nbformat_minor": 4
}