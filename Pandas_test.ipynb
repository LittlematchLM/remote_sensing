{
 "cells": [
  {
   "cell_type": "code",
   "execution_count": 2,
   "metadata": {},
   "outputs": [],
   "source": [
    "import numpy as np\n",
    "import pandas as pd\n"
   ]
  },
  {
   "cell_type": "code",
   "execution_count": 70,
   "metadata": {},
   "outputs": [],
   "source": [
    "df = pd.DataFrame({'lons':[100,20,20,20,20,2],\n",
    "                  'lats':[30,80,80,80,30,10],\n",
    "                 'swhc':[10,100,60,35,15,5]})"
   ]
  },
  {
   "cell_type": "code",
   "execution_count": 71,
   "metadata": {},
   "outputs": [
    {
     "data": {
      "text/html": [
       "<div>\n",
       "<style scoped>\n",
       "    .dataframe tbody tr th:only-of-type {\n",
       "        vertical-align: middle;\n",
       "    }\n",
       "\n",
       "    .dataframe tbody tr th {\n",
       "        vertical-align: top;\n",
       "    }\n",
       "\n",
       "    .dataframe thead th {\n",
       "        text-align: right;\n",
       "    }\n",
       "</style>\n",
       "<table border=\"1\" class=\"dataframe\">\n",
       "  <thead>\n",
       "    <tr style=\"text-align: right;\">\n",
       "      <th></th>\n",
       "      <th>lons</th>\n",
       "      <th>lats</th>\n",
       "    </tr>\n",
       "  </thead>\n",
       "  <tbody>\n",
       "    <tr>\n",
       "      <th>0</th>\n",
       "      <td>100</td>\n",
       "      <td>30</td>\n",
       "    </tr>\n",
       "    <tr>\n",
       "      <th>1</th>\n",
       "      <td>20</td>\n",
       "      <td>80</td>\n",
       "    </tr>\n",
       "    <tr>\n",
       "      <th>2</th>\n",
       "      <td>20</td>\n",
       "      <td>80</td>\n",
       "    </tr>\n",
       "    <tr>\n",
       "      <th>3</th>\n",
       "      <td>20</td>\n",
       "      <td>80</td>\n",
       "    </tr>\n",
       "    <tr>\n",
       "      <th>4</th>\n",
       "      <td>20</td>\n",
       "      <td>30</td>\n",
       "    </tr>\n",
       "    <tr>\n",
       "      <th>5</th>\n",
       "      <td>2</td>\n",
       "      <td>10</td>\n",
       "    </tr>\n",
       "  </tbody>\n",
       "</table>\n",
       "</div>"
      ],
      "text/plain": [
       "   lons  lats\n",
       "0   100    30\n",
       "1    20    80\n",
       "2    20    80\n",
       "3    20    80\n",
       "4    20    30\n",
       "5     2    10"
      ]
     },
     "execution_count": 71,
     "metadata": {},
     "output_type": "execute_result"
    }
   ],
   "source": [
    "df.loc[:,'lons':'lats']"
   ]
  },
  {
   "cell_type": "code",
   "execution_count": 72,
   "metadata": {},
   "outputs": [],
   "source": [
    "dfsort = df.sort_values(by=['lons','lats'], ascending=False)"
   ]
  },
  {
   "cell_type": "code",
   "execution_count": 73,
   "metadata": {},
   "outputs": [
    {
     "data": {
      "text/html": [
       "<div>\n",
       "<style scoped>\n",
       "    .dataframe tbody tr th:only-of-type {\n",
       "        vertical-align: middle;\n",
       "    }\n",
       "\n",
       "    .dataframe tbody tr th {\n",
       "        vertical-align: top;\n",
       "    }\n",
       "\n",
       "    .dataframe thead th {\n",
       "        text-align: right;\n",
       "    }\n",
       "</style>\n",
       "<table border=\"1\" class=\"dataframe\">\n",
       "  <thead>\n",
       "    <tr style=\"text-align: right;\">\n",
       "      <th></th>\n",
       "      <th>lons</th>\n",
       "      <th>lats</th>\n",
       "      <th>swhc</th>\n",
       "    </tr>\n",
       "  </thead>\n",
       "  <tbody>\n",
       "    <tr>\n",
       "      <th>0</th>\n",
       "      <td>100</td>\n",
       "      <td>30</td>\n",
       "      <td>10</td>\n",
       "    </tr>\n",
       "    <tr>\n",
       "      <th>1</th>\n",
       "      <td>20</td>\n",
       "      <td>80</td>\n",
       "      <td>100</td>\n",
       "    </tr>\n",
       "    <tr>\n",
       "      <th>2</th>\n",
       "      <td>20</td>\n",
       "      <td>80</td>\n",
       "      <td>60</td>\n",
       "    </tr>\n",
       "    <tr>\n",
       "      <th>3</th>\n",
       "      <td>20</td>\n",
       "      <td>80</td>\n",
       "      <td>35</td>\n",
       "    </tr>\n",
       "    <tr>\n",
       "      <th>4</th>\n",
       "      <td>20</td>\n",
       "      <td>30</td>\n",
       "      <td>15</td>\n",
       "    </tr>\n",
       "    <tr>\n",
       "      <th>5</th>\n",
       "      <td>2</td>\n",
       "      <td>10</td>\n",
       "      <td>5</td>\n",
       "    </tr>\n",
       "  </tbody>\n",
       "</table>\n",
       "</div>"
      ],
      "text/plain": [
       "   lons  lats  swhc\n",
       "0   100    30    10\n",
       "1    20    80   100\n",
       "2    20    80    60\n",
       "3    20    80    35\n",
       "4    20    30    15\n",
       "5     2    10     5"
      ]
     },
     "execution_count": 73,
     "metadata": {},
     "output_type": "execute_result"
    }
   ],
   "source": [
    "dfsort"
   ]
  },
  {
   "cell_type": "code",
   "execution_count": 82,
   "metadata": {},
   "outputs": [],
   "source": [
    "dfsort_1 = dfsort.groupby(['lons','lats']).mean()"
   ]
  },
  {
   "cell_type": "code",
   "execution_count": 89,
   "metadata": {},
   "outputs": [
    {
     "data": {
      "text/html": [
       "<div>\n",
       "<style scoped>\n",
       "    .dataframe tbody tr th:only-of-type {\n",
       "        vertical-align: middle;\n",
       "    }\n",
       "\n",
       "    .dataframe tbody tr th {\n",
       "        vertical-align: top;\n",
       "    }\n",
       "\n",
       "    .dataframe thead th {\n",
       "        text-align: right;\n",
       "    }\n",
       "</style>\n",
       "<table border=\"1\" class=\"dataframe\">\n",
       "  <thead>\n",
       "    <tr style=\"text-align: right;\">\n",
       "      <th></th>\n",
       "      <th></th>\n",
       "      <th>swhc</th>\n",
       "    </tr>\n",
       "    <tr>\n",
       "      <th>lons</th>\n",
       "      <th>lats</th>\n",
       "      <th></th>\n",
       "    </tr>\n",
       "  </thead>\n",
       "  <tbody>\n",
       "    <tr>\n",
       "      <th>2</th>\n",
       "      <th>10</th>\n",
       "      <td>5</td>\n",
       "    </tr>\n",
       "    <tr>\n",
       "      <th rowspan=\"2\" valign=\"top\">20</th>\n",
       "      <th>30</th>\n",
       "      <td>15</td>\n",
       "    </tr>\n",
       "    <tr>\n",
       "      <th>80</th>\n",
       "      <td>65</td>\n",
       "    </tr>\n",
       "  </tbody>\n",
       "</table>\n",
       "</div>"
      ],
      "text/plain": [
       "           swhc\n",
       "lons lats      \n",
       "2    10       5\n",
       "20   30      15\n",
       "     80      65"
      ]
     },
     "execution_count": 89,
     "metadata": {},
     "output_type": "execute_result"
    }
   ],
   "source": [
    "dfsort_1[0:3]"
   ]
  },
  {
   "cell_type": "code",
   "execution_count": 90,
   "metadata": {},
   "outputs": [],
   "source": [
    "from mpl_toolkits.basemap import Basemap\n",
    "import matplotlib.pyplot as plt\n",
    "from netCDF4 import Dataset\n",
    "import numpy as np\n",
    "import os\n",
    "import glob\n"
   ]
  },
  {
   "cell_type": "code",
   "execution_count": 91,
   "metadata": {},
   "outputs": [
    {
     "data": {
      "text/plain": [
       "<Figure size 1152x864 with 0 Axes>"
      ]
     },
     "metadata": {},
     "output_type": "display_data"
    }
   ],
   "source": [
    "fig = plt.figure(figsize=(16, 12))\n",
    "# read all netCDF file\n",
    "dir_path = 'E:\\python_workfile\\\\remote_sensing\\H2B_nc_data\\H2B_20200711'\n",
    "ncfiles = glob.glob(dir_path + '\\*.nc')\n",
    "lon_array = np.array([])\n",
    "lat_array = np.array([])\n",
    "swhc_array = np.array([])\n",
    "swhc_mask_array = np.array([])\n",
    "for ncfile in ncfiles:\n",
    "    fh = Dataset(ncfile, mode='r')\n",
    "    lons = fh.variables['lon'][:]\n",
    "    lats = fh.variables['lat'][:]\n",
    "    swhc = fh.variables['swh_c'][:]\n",
    "    swhc_mask = swhc.mask\n",
    "    lon_array = np.append(lon_array, lons)\n",
    "    lat_array = np.append(lat_array, lats)\n",
    "    swhc_array = np.append(swhc_array, swhc)\n",
    "    swhc_mask_array = np.append(swhc_mask_array, swhc_mask)\n",
    "    fh.close()\n",
    "\n",
    "m = Basemap(projection='cyl', llcrnrlat=-90, urcrnrlat=90, llcrnrlon=0, urcrnrlon=360, resolution='c')\n",
    "# m = Basemap(projection='npaeqd', boundinglat=60, lon_0=180, resolution='c')\n",
    "x, y = m(lon_array, lat_array)"
   ]
  },
  {
   "cell_type": "code",
   "execution_count": 92,
   "metadata": {},
   "outputs": [
    {
     "data": {
      "text/plain": [
       "{0.0: ([<matplotlib.lines.Line2D at 0x2044c6993a0>],\n",
       "  [Text(0.36, -93.6, '0°')]),\n",
       " 60.0: ([<matplotlib.lines.Line2D at 0x2044c3db790>],\n",
       "  [Text(60.12, -93.6, '60°E')]),\n",
       " 120.0: ([<matplotlib.lines.Line2D at 0x2044c3d9e50>],\n",
       "  [Text(120.24, -93.6, '120°E')]),\n",
       " 180.0: ([<matplotlib.lines.Line2D at 0x2044c3d9b50>],\n",
       "  [Text(180.35999999999999, -93.6, '180°')]),\n",
       " 240.0: ([<matplotlib.lines.Line2D at 0x2044c3d9d00>],\n",
       "  [Text(240.12, -93.6, '120°W')]),\n",
       " 300.0: ([<matplotlib.lines.Line2D at 0x2044c3d9490>],\n",
       "  [Text(300.24, -93.6, '60°W')]),\n",
       " 360.0: ([<matplotlib.lines.Line2D at 0x2044c699280>],\n",
       "  [Text(0.36, -93.6, '0°')])}"
      ]
     },
     "execution_count": 92,
     "metadata": {},
     "output_type": "execute_result"
    },
    {
     "data": {
      "image/png": "[encoded data removed]",
      "text/plain": [
       "<Figure size 432x288 with 2 Axes>"
      ]
     },
     "metadata": {
      "needs_background": "light"
     },
     "output_type": "display_data"
    }
   ],
   "source": [
    "\n",
    "# Draw the scatterplot\n",
    "swhc_array_masked = np.ma.array(swhc_array, mask=swhc_mask_array)\n",
    "m.scatter(x, y, c=swhc_array_masked, marker='o', cmap=plt.cm.jet, alpha=0.8)\n",
    "m.colorbar(location='right')\n",
    "m.drawcoastlines()\n",
    "m.fillcontinents()\n",
    "m.drawmapboundary()\n",
    "m.drawparallels(np.arange(-90., 120., 30.), labels=[1, 0, 0, 0])\n",
    "m.drawmeridians(np.arange(-180., 180., 60.), labels=[0, 0, 0, 1])\n"
   ]
  },
  {
   "cell_type": "code",
   "execution_count": 122,
   "metadata": {},
   "outputs": [],
   "source": [
    "data = pd.DataFrame(data=(lon_array, lat_array, swhc_array_masked), index=['lons', 'lats', 'swh_c']).T"
   ]
  },
  {
   "cell_type": "code",
   "execution_count": 125,
   "metadata": {},
   "outputs": [],
   "source": [
    "data=data.sort_values(by=['lons', 'lats'])"
   ]
  },
  {
   "cell_type": "code",
   "execution_count": 126,
   "metadata": {},
   "outputs": [
    {
     "data": {
      "text/html": [
       "<div>\n",
       "<style scoped>\n",
       "    .dataframe tbody tr th:only-of-type {\n",
       "        vertical-align: middle;\n",
       "    }\n",
       "\n",
       "    .dataframe tbody tr th {\n",
       "        vertical-align: top;\n",
       "    }\n",
       "\n",
       "    .dataframe thead th {\n",
       "        text-align: right;\n",
       "    }\n",
       "</style>\n",
       "<table border=\"1\" class=\"dataframe\">\n",
       "  <thead>\n",
       "    <tr style=\"text-align: right;\">\n",
       "      <th></th>\n",
       "      <th>lons</th>\n",
       "      <th>lats</th>\n",
       "      <th>swh_c</th>\n",
       "    </tr>\n",
       "  </thead>\n",
       "  <tbody>\n",
       "    <tr>\n",
       "      <th>49201</th>\n",
       "      <td>0.006139</td>\n",
       "      <td>46.2088</td>\n",
       "      <td>--</td>\n",
       "    </tr>\n",
       "    <tr>\n",
       "      <th>17212</th>\n",
       "      <td>0.006826</td>\n",
       "      <td>-12.4791</td>\n",
       "      <td>2.126</td>\n",
       "    </tr>\n",
       "    <tr>\n",
       "      <th>52902</th>\n",
       "      <td>0.016683</td>\n",
       "      <td>-45.3807</td>\n",
       "      <td>4.095</td>\n",
       "    </tr>\n",
       "    <tr>\n",
       "      <th>21484</th>\n",
       "      <td>0.018187</td>\n",
       "      <td>62.6919</td>\n",
       "      <td>3.363</td>\n",
       "    </tr>\n",
       "    <tr>\n",
       "      <th>17211</th>\n",
       "      <td>0.020807</td>\n",
       "      <td>-12.4221</td>\n",
       "      <td>2.24</td>\n",
       "    </tr>\n",
       "    <tr>\n",
       "      <th>...</th>\n",
       "      <td>...</td>\n",
       "      <td>...</td>\n",
       "      <td>...</td>\n",
       "    </tr>\n",
       "    <tr>\n",
       "      <th>17214</th>\n",
       "      <td>359.98</td>\n",
       "      <td>-12.5904</td>\n",
       "      <td>2.141</td>\n",
       "    </tr>\n",
       "    <tr>\n",
       "      <th>4008</th>\n",
       "      <td>359.987</td>\n",
       "      <td>-80.38</td>\n",
       "      <td>--</td>\n",
       "    </tr>\n",
       "    <tr>\n",
       "      <th>12991</th>\n",
       "      <td>359.989</td>\n",
       "      <td>-68.1015</td>\n",
       "      <td>--</td>\n",
       "    </tr>\n",
       "    <tr>\n",
       "      <th>17213</th>\n",
       "      <td>359.993</td>\n",
       "      <td>-12.5347</td>\n",
       "      <td>2.169</td>\n",
       "    </tr>\n",
       "    <tr>\n",
       "      <th>52903</th>\n",
       "      <td>359.994</td>\n",
       "      <td>-45.3254</td>\n",
       "      <td>4.026</td>\n",
       "    </tr>\n",
       "  </tbody>\n",
       "</table>\n",
       "<p>68337 rows × 3 columns</p>\n",
       "</div>"
      ],
      "text/plain": [
       "           lons     lats  swh_c\n",
       "49201  0.006139  46.2088     --\n",
       "17212  0.006826 -12.4791  2.126\n",
       "52902  0.016683 -45.3807  4.095\n",
       "21484  0.018187  62.6919  3.363\n",
       "17211  0.020807 -12.4221   2.24\n",
       "...         ...      ...    ...\n",
       "17214    359.98 -12.5904  2.141\n",
       "4008    359.987   -80.38     --\n",
       "12991   359.989 -68.1015     --\n",
       "17213   359.993 -12.5347  2.169\n",
       "52903   359.994 -45.3254  4.026\n",
       "\n",
       "[68337 rows x 3 columns]"
      ]
     },
     "execution_count": 126,
     "metadata": {},
     "output_type": "execute_result"
    }
   ],
   "source": [
    "data"
   ]
  },
  {
   "cell_type": "code",
   "execution_count": 130,
   "metadata": {},
   "outputs": [
    {
     "data": {
      "text/html": [
       "<div>\n",
       "<style scoped>\n",
       "    .dataframe tbody tr th:only-of-type {\n",
       "        vertical-align: middle;\n",
       "    }\n",
       "\n",
       "    .dataframe tbody tr th {\n",
       "        vertical-align: top;\n",
       "    }\n",
       "\n",
       "    .dataframe thead th {\n",
       "        text-align: right;\n",
       "    }\n",
       "</style>\n",
       "<table border=\"1\" class=\"dataframe\">\n",
       "  <thead>\n",
       "    <tr style=\"text-align: right;\">\n",
       "      <th></th>\n",
       "      <th>lons</th>\n",
       "      <th>lats</th>\n",
       "      <th>swh_c</th>\n",
       "    </tr>\n",
       "  </thead>\n",
       "  <tbody>\n",
       "    <tr>\n",
       "      <th>49201</th>\n",
       "      <td>0.006139</td>\n",
       "      <td>46.2088</td>\n",
       "      <td>--</td>\n",
       "    </tr>\n",
       "    <tr>\n",
       "      <th>17212</th>\n",
       "      <td>0.006826</td>\n",
       "      <td>-12.4791</td>\n",
       "      <td>2.126</td>\n",
       "    </tr>\n",
       "    <tr>\n",
       "      <th>52902</th>\n",
       "      <td>0.016683</td>\n",
       "      <td>-45.3807</td>\n",
       "      <td>4.095</td>\n",
       "    </tr>\n",
       "    <tr>\n",
       "      <th>21484</th>\n",
       "      <td>0.018187</td>\n",
       "      <td>62.6919</td>\n",
       "      <td>3.363</td>\n",
       "    </tr>\n",
       "    <tr>\n",
       "      <th>17211</th>\n",
       "      <td>0.020807</td>\n",
       "      <td>-12.4221</td>\n",
       "      <td>2.24</td>\n",
       "    </tr>\n",
       "    <tr>\n",
       "      <th>...</th>\n",
       "      <td>...</td>\n",
       "      <td>...</td>\n",
       "      <td>...</td>\n",
       "    </tr>\n",
       "    <tr>\n",
       "      <th>17214</th>\n",
       "      <td>359.98</td>\n",
       "      <td>-12.5904</td>\n",
       "      <td>2.141</td>\n",
       "    </tr>\n",
       "    <tr>\n",
       "      <th>4008</th>\n",
       "      <td>359.987</td>\n",
       "      <td>-80.38</td>\n",
       "      <td>--</td>\n",
       "    </tr>\n",
       "    <tr>\n",
       "      <th>12991</th>\n",
       "      <td>359.989</td>\n",
       "      <td>-68.1015</td>\n",
       "      <td>--</td>\n",
       "    </tr>\n",
       "    <tr>\n",
       "      <th>17213</th>\n",
       "      <td>359.993</td>\n",
       "      <td>-12.5347</td>\n",
       "      <td>2.169</td>\n",
       "    </tr>\n",
       "    <tr>\n",
       "      <th>52903</th>\n",
       "      <td>359.994</td>\n",
       "      <td>-45.3254</td>\n",
       "      <td>4.026</td>\n",
       "    </tr>\n",
       "  </tbody>\n",
       "</table>\n",
       "<p>68337 rows × 3 columns</p>\n",
       "</div>"
      ],
      "text/plain": [
       "           lons     lats  swh_c\n",
       "49201  0.006139  46.2088     --\n",
       "17212  0.006826 -12.4791  2.126\n",
       "52902  0.016683 -45.3807  4.095\n",
       "21484  0.018187  62.6919  3.363\n",
       "17211  0.020807 -12.4221   2.24\n",
       "...         ...      ...    ...\n",
       "17214    359.98 -12.5904  2.141\n",
       "4008    359.987   -80.38     --\n",
       "12991   359.989 -68.1015     --\n",
       "17213   359.993 -12.5347  2.169\n",
       "52903   359.994 -45.3254  4.026\n",
       "\n",
       "[68337 rows x 3 columns]"
      ]
     },
     "execution_count": 130,
     "metadata": {},
     "output_type": "execute_result"
    }
   ],
   "source": [
    "data.round(3)\n"
   ]
  },
  {
   "cell_type": "code",
   "execution_count": 129,
   "metadata": {},
   "outputs": [],
   "source": []
  },
  {
   "cell_type": "code",
   "execution_count": null,
   "metadata": {},
   "outputs": [],
   "source": []
  }
 ],
 "metadata": {
  "kernelspec": {
   "display_name": "Python 3",
   "language": "python",
   "name": "python3"
  },
  "language_info": {
   "codemirror_mode": {
    "name": "ipython",
    "version": 3
   },
   "file_extension": ".py",
   "mimetype": "text/x-python",
   "name": "python",
   "nbconvert_exporter": "python",
   "pygments_lexer": "ipython3",
   "version": "3.8.5"
  }
 },
 "nbformat": 4,
 "nbformat_minor": 4
}
