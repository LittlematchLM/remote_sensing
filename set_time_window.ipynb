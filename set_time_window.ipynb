{
 "cells": [
  {
   "cell_type": "code",
   "execution_count": 158,
   "metadata": {},
   "outputs": [],
   "source": [
    "import pyproj\n",
    "from  pyproj  import  CRS\n",
    "from pyproj import Proj\n",
    "import h5py\n",
    "from mpl_toolkits.basemap import Basemap\n",
    "import matplotlib.pyplot as plt\n",
    "import numpy as np\n",
    "from matplotlib import cm, colors\n",
    "import glob\n",
    "from mpl_toolkits.basemap import Basemap\n",
    "from netCDF4 import Dataset\n",
    "import pandas as pd\n",
    "import gzip\n",
    "from collections import defaultdict"
   ]
  },
  {
   "cell_type": "code",
   "execution_count": 159,
   "metadata": {},
   "outputs": [],
   "source": [
    "# 设置空间分辨率\n",
    "resolution = 10000\n",
    "\n",
    "# 将WGS 84坐标（4326）转化为等距圆柱投影（4088）\n",
    "crs = CRS.from_epsg(4326)\n",
    "crs = CRS.from_string(\"epsg:4326\")\n",
    "crs = CRS.from_proj4(\"+proj=latlon\")\n",
    "crs = CRS.from_user_input(4326)\n",
    "crs2 = CRS.from_epsg(4088)\n",
    "crs2 = CRS.from_string(\"epsg:4088\")\n",
    "crs2 = CRS.from_proj4(\"+proj=latlon\")\n",
    "crs2 = CRS.from_user_input(4088)\n",
    "\n",
    "transformer = pyproj.Transformer.from_crs(crs,crs2)\n",
    "transformer_back = pyproj.Transformer.from_crs(crs2,crs)"
   ]
  },
  {
   "cell_type": "code",
   "execution_count": 160,
   "metadata": {},
   "outputs": [],
   "source": [
    "# 获取数组的长和宽\n",
    "def get_nlat_nlon_npaeqd(resolution):\n",
    "    nlat, nlon =40000000/ resolution,40000000/ resolution\n",
    "    nlat = np.int(nlat)\n",
    "    nlon = np.int(nlon)\n",
    "    return nlat, nlon\n",
    "    \n",
    "    \n",
    "def get_nlat_nlon_cyl(resolution):\n",
    "    nlat, nlon =40000000/ resolution,20000000/ resolution\n",
    "    nlat = np.int(nlat)\n",
    "    nlon = np.int(nlon)\n",
    "    return nlat, nlon\n",
    "\n",
    "# 获取用来存放数据的grid数组，及其对应的grid_num数组（用来存放一个格子中有多少重合点），以及对应的初始time数组\n",
    "def get_swh_grid(nlat, nlon):\n",
    "    swh_grid = np.full(shape=(nlon,nlat), fill_value=np.nan)\n",
    "    swh_grid_num = np.zeros((nlon,nlat))\n",
    "    swh_grid_time = np.full(shape=(nlon,nlat), fill_value=np.nan)\n",
    "    return swh_grid, swh_grid_num, swh_grid_time\n",
    "\n",
    "# 填充每个点的数值，将有重复数据的点标记到swh_grid_num中,最后求平均\n",
    "def coincident_point_mean(value_array, grid_array, grid_num_array, projlats, projlons):\n",
    "    for i in range(len(value_array)):\n",
    "        x = int((projlons[i] )/resolution)\n",
    "        y = int(projlats[i]/resolution)\n",
    "        if grid_num_array[x][y] == 0:\n",
    "            grid_array[x][y] = value_array[i]\n",
    "            grid_num_array[x][y] += 1\n",
    "        else:\n",
    "            grid_array[x][y] += value_array[i]\n",
    "            grid_num_array[x][y] += 1\n",
    "    grid_array = grid_array / grid_num_array\n",
    "    return grid_array\n",
    "\n"
   ]
  },
  {
   "cell_type": "code",
   "execution_count": 210,
   "metadata": {},
   "outputs": [],
   "source": [
    "# hy_dir_path = r'G:\\remote_sensing_data\\HY-2B\\2020\\07\\20200701_20200711'\n",
    "hy_dir_path_01 = r'G:\\remote_sensing_data\\HY-2B\\2020\\07\\20200701_20200711\\20200701'\n",
    "hyfiles = glob.glob(hy_dir_path_01 + '\\*.nc')\n",
    "# hyfile = r'G:\\remote_sensing_data\\HY-2B\\2020\\07\\20200711\\H2B_OPER_GDR_2PC_0045_0116_20200711T001410_20200711T010412.nc'\n",
    "hy_lon_array = np.array([])\n",
    "hy_lat_array = np.array([])\n",
    "hy_time_array = np.array([])\n",
    "hy_value_array = np.array([])\n",
    "hy_swhc_mask_array = np.array([])\n",
    "\n",
    "for hyfile in hyfiles:\n",
    "    with Dataset(hyfile, mode='r') as fh:\n",
    "        lons = fh.variables['lon'][:]\n",
    "        lats = fh.variables['lat'][:]\n",
    "        swhc = fh.variables['swh_c'][:]\n",
    "        time = fh.variables['time'][:]\n",
    "        swhc_mask = swhc.mask\n",
    "        hy_lon_array = np.append(hy_lon_array, lons)\n",
    "        hy_lat_array = np.append(hy_lat_array, lats)\n",
    "        hy_value_array = np.append(hy_value_array, swhc)\n",
    "        hy_time_array = np.append(hy_time_array, time)\n",
    "        hy_swhc_mask_array = np.append(hy_swhc_mask_array, swhc_mask)\n",
    "    hy_value_array_masked = np.ma.array(hy_value_array, mask=hy_swhc_mask_array)\n",
    "hy_df = pd.DataFrame([hy_lon_array, hy_lat_array, hy_time_array, hy_value_array_masked], index=['lon', 'lat', 'time', 'value'])"
   ]
  },
  {
   "cell_type": "code",
   "execution_count": 212,
   "metadata": {},
   "outputs": [],
   "source": [
    "hy_projlats,hy_projlons = transformer.transform(hy_lat_array,hy_lon_array)\n",
    "# 获取东西半球的nlat，nlon，is_grid_west,is_grid_num_west\n",
    "hy_nlat, hy_nlon =get_nlat_nlon_cyl(resolution)\n",
    "hy_grid, hy_num_grip, hy_time_grid = get_swh_grid(hy_nlat, hy_nlon)"
   ]
  },
  {
   "cell_type": "code",
   "execution_count": 213,
   "metadata": {},
   "outputs": [
    {
     "name": "stderr",
     "output_type": "stream",
     "text": [
      "<ipython-input-213-5302c47a72fb>:6: UserWarning: Warning: converting a masked element to nan.\n",
      "  hy_grid[x][y] = hy_value_array_masked[i]\n"
     ]
    },
    {
     "ename": "KeyError",
     "evalue": "'-1128+-292'",
     "output_type": "error",
     "traceback": [
      "\u001b[1;31m---------------------------------------------------------------------------\u001b[0m",
      "\u001b[1;31mKeyError\u001b[0m                                  Traceback (most recent call last)",
      "\u001b[1;32m<ipython-input-213-5302c47a72fb>\u001b[0m in \u001b[0;36m<module>\u001b[1;34m\u001b[0m\n\u001b[0;32m     11\u001b[0m     \u001b[1;32melse\u001b[0m\u001b[1;33m:\u001b[0m\u001b[1;33m\u001b[0m\u001b[1;33m\u001b[0m\u001b[0m\n\u001b[0;32m     12\u001b[0m         \u001b[0mdict_name\u001b[0m \u001b[1;33m=\u001b[0m \u001b[0mstr\u001b[0m\u001b[1;33m(\u001b[0m\u001b[0mx\u001b[0m\u001b[1;33m)\u001b[0m \u001b[1;33m+\u001b[0m \u001b[1;34m'+'\u001b[0m \u001b[1;33m+\u001b[0m \u001b[0mstr\u001b[0m\u001b[1;33m(\u001b[0m\u001b[0my\u001b[0m\u001b[1;33m)\u001b[0m\u001b[1;33m\u001b[0m\u001b[1;33m\u001b[0m\u001b[0m\n\u001b[1;32m---> 13\u001b[1;33m         \u001b[0mhy_time_dict\u001b[0m\u001b[1;33m[\u001b[0m\u001b[0mdict_name\u001b[0m\u001b[1;33m]\u001b[0m\u001b[1;33m[\u001b[0m\u001b[0mhy_time_array\u001b[0m\u001b[1;33m[\u001b[0m\u001b[0mi\u001b[0m\u001b[1;33m]\u001b[0m\u001b[1;33m]\u001b[0m \u001b[1;33m=\u001b[0m \u001b[0mhy_value_array_masked\u001b[0m\u001b[1;33m[\u001b[0m\u001b[0mi\u001b[0m\u001b[1;33m]\u001b[0m\u001b[1;33m\u001b[0m\u001b[1;33m\u001b[0m\u001b[0m\n\u001b[0m",
      "\u001b[1;31mKeyError\u001b[0m: '-1128+-292'"
     ]
    }
   ],
   "source": [
    "hy_time_dict = {}\n",
    "for i in range(len(hy_value_array_masked)):\n",
    "    x = int((hy_projlats[i] )/resolution)\n",
    "    y = int(hy_projlons[i]/resolution)\n",
    "    if hy_num_grip[x][y] == 0:\n",
    "        hy_grid[x][y] = hy_value_array_masked[i]\n",
    "        hy_time_grid[x][y] = hy_time_array[i]\n",
    "        hy_num_grip[x][y] = 1\n",
    "        dict_name = str(x) + '+' + str(y)\n",
    "        hy_time_dict[dict_name] = {hy_time_grid[x][y]: hy_grid[x][y]}\n",
    "    else:\n",
    "        dict_name = str(x) + '+' + str(y)\n",
    "        hy_time_dict[dict_name][hy_time_array[i]] = hy_value_array_masked[i]\n"
   ]
  },
  {
   "cell_type": "code",
   "execution_count": 207,
   "metadata": {},
   "outputs": [],
   "source": [
    "# 删除没有重合点的子字典\n",
    "for key in list(hy_time_dict.keys()):\n",
    "    if len(hy_time_dict[key].items()) < 2 :\n",
    "        del hy_time_dict[key]"
   ]
  },
  {
   "cell_type": "code",
   "execution_count": null,
   "metadata": {},
   "outputs": [],
   "source": []
  }
 ],
 "metadata": {
  "kernelspec": {
   "display_name": "Python 3",
   "language": "python",
   "name": "python3"
  },
  "language_info": {
   "codemirror_mode": {
    "name": "ipython",
    "version": 3
   },
   "file_extension": ".py",
   "mimetype": "text/x-python",
   "name": "python",
   "nbconvert_exporter": "python",
   "pygments_lexer": "ipython3",
   "version": "3.8.5"
  }
 },
 "nbformat": 4,
 "nbformat_minor": 4
}
